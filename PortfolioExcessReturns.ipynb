{
 "cells": [
  {
   "cell_type": "code",
   "execution_count": null,
   "metadata": {},
   "outputs": [],
   "source": [
    "# Generate Portfolios based on market cap pickinig the top N stocks"
   ]
  },
  {
   "cell_type": "code",
   "execution_count": 1,
   "metadata": {},
   "outputs": [],
   "source": [
    "import pandas as pd\n",
    "import numpy as np\n",
    "from matplotlib import pyplot as plt\n",
    "import seaborn as sns"
   ]
  },
  {
   "cell_type": "code",
   "execution_count": 2,
   "metadata": {},
   "outputs": [],
   "source": [
    "# Get the CRSP Data\n",
    "# Derived from readcrsp.ipynb\n",
    "crsp_m = pd.read_csv('data/crspmsf.csv', parse_dates=[0])\n",
    "crsp_m['permno'] = crsp_m['permno'].astype(int)\n",
    "crsp_m['mktcap'] = abs(crsp_m['shrout']*crsp_m['altprc'])\n",
    "returndata = crsp_m[['date','permno','ret','mktcap']]"
   ]
  },
  {
   "cell_type": "code",
   "execution_count": 3,
   "metadata": {},
   "outputs": [],
   "source": [
    "# Remove the stocks where we dont have returns data\n",
    "returndata = returndata[~returndata.ret.isna()]"
   ]
  },
  {
   "cell_type": "code",
   "execution_count": 4,
   "metadata": {},
   "outputs": [],
   "source": [
    "# Sort the data date wise\n",
    "returndata = returndata.sort_values(['date', 'permno'])"
   ]
  },
  {
   "cell_type": "code",
   "execution_count": 5,
   "metadata": {},
   "outputs": [],
   "source": [
    "# Update the date to retain ony the year and month string\n",
    "returndata['date'] = returndata['date'].apply(lambda x: x.replace('-', '')[:6])"
   ]
  },
  {
   "cell_type": "code",
   "execution_count": 6,
   "metadata": {},
   "outputs": [
    {
     "data": {
      "text/html": [
       "<div>\n",
       "<style scoped>\n",
       "    .dataframe tbody tr th:only-of-type {\n",
       "        vertical-align: middle;\n",
       "    }\n",
       "\n",
       "    .dataframe tbody tr th {\n",
       "        vertical-align: top;\n",
       "    }\n",
       "\n",
       "    .dataframe thead th {\n",
       "        text-align: right;\n",
       "    }\n",
       "</style>\n",
       "<table border=\"1\" class=\"dataframe\">\n",
       "  <thead>\n",
       "    <tr style=\"text-align: right;\">\n",
       "      <th></th>\n",
       "      <th>date</th>\n",
       "      <th>permno</th>\n",
       "      <th>ret</th>\n",
       "      <th>mktcap</th>\n",
       "    </tr>\n",
       "  </thead>\n",
       "  <tbody>\n",
       "    <tr>\n",
       "      <th>920</th>\n",
       "      <td>192601</td>\n",
       "      <td>10006</td>\n",
       "      <td>0.032732</td>\n",
       "      <td>66150.00</td>\n",
       "    </tr>\n",
       "    <tr>\n",
       "      <th>3791</th>\n",
       "      <td>192601</td>\n",
       "      <td>10022</td>\n",
       "      <td>0.017857</td>\n",
       "      <td>11400.00</td>\n",
       "    </tr>\n",
       "    <tr>\n",
       "      <th>5647</th>\n",
       "      <td>192601</td>\n",
       "      <td>10030</td>\n",
       "      <td>0.161667</td>\n",
       "      <td>27183.00</td>\n",
       "    </tr>\n",
       "    <tr>\n",
       "      <th>8872</th>\n",
       "      <td>192601</td>\n",
       "      <td>10049</td>\n",
       "      <td>0.141892</td>\n",
       "      <td>20875.00</td>\n",
       "    </tr>\n",
       "    <tr>\n",
       "      <th>9913</th>\n",
       "      <td>192601</td>\n",
       "      <td>10057</td>\n",
       "      <td>-0.035714</td>\n",
       "      <td>5906.25</td>\n",
       "    </tr>\n",
       "  </tbody>\n",
       "</table>\n",
       "</div>"
      ],
      "text/plain": [
       "        date  permno       ret    mktcap\n",
       "920   192601   10006  0.032732  66150.00\n",
       "3791  192601   10022  0.017857  11400.00\n",
       "5647  192601   10030  0.161667  27183.00\n",
       "8872  192601   10049  0.141892  20875.00\n",
       "9913  192601   10057 -0.035714   5906.25"
      ]
     },
     "execution_count": 6,
     "metadata": {},
     "output_type": "execute_result"
    }
   ],
   "source": [
    "returndata.head()"
   ]
  },
  {
   "cell_type": "code",
   "execution_count": 7,
   "metadata": {},
   "outputs": [],
   "source": [
    "# Get the Fama-French Factors (for Risk Free Rate)\n",
    "ff_factors = pd.read_csv('data/F-F_Research_Data_Factors-2.csv', skiprows=4, names='date,mkt_rf,smb,hml,rf'.split(','))\n",
    "ff_factors = ff_factors[ff_factors.date.str.len() == 6]"
   ]
  },
  {
   "cell_type": "code",
   "execution_count": 8,
   "metadata": {},
   "outputs": [],
   "source": [
    "# Join the ff factors and the CRSP returns\n",
    "returndata = pd.merge(returndata, ff_factors[['date', 'rf']], how='left', on=['date'])"
   ]
  },
  {
   "cell_type": "code",
   "execution_count": 9,
   "metadata": {},
   "outputs": [],
   "source": [
    "# Get the excess returns\n",
    "returndata['excess_ret'] = returndata['ret'] - returndata['rf'].astype(float)"
   ]
  },
  {
   "cell_type": "code",
   "execution_count": 14,
   "metadata": {},
   "outputs": [],
   "source": [
    "# Create a portfolio and get the portfolio excess return\n",
    "def get_portfolio_excess_ret(data_dt, num_stocks):\n",
    "    data_dt_temp = data_dt.copy()\n",
    "    data_dt_temp = data_dt_temp.sort_values('mktcap', ascending=False)[:num_stocks]\n",
    "    total_mkt_cap = np.sum(data_dt_temp.mktcap)\n",
    "    return np.sum(data_dt_temp.excess_ret*data_dt_temp.mktcap)/total_mkt_cap"
   ]
  },
  {
   "cell_type": "code",
   "execution_count": 15,
   "metadata": {},
   "outputs": [],
   "source": [
    "# Number of stocks for the Benchmark\n",
    "N = 500"
   ]
  },
  {
   "cell_type": "code",
   "execution_count": 21,
   "metadata": {},
   "outputs": [],
   "source": [
    "portfolio_excess_ret = returndata.groupby('date').apply(lambda x: get_portfolio_excess_ret(x, N))\n",
    "returndata = pd.merge(returndata, portfolio_excess_ret.reset_index().rename(columns={0: 'benchmark_excess_ret'}), on='date', how='left')"
   ]
  },
  {
   "cell_type": "code",
   "execution_count": 22,
   "metadata": {},
   "outputs": [
    {
     "data": {
      "text/html": [
       "<div>\n",
       "<style scoped>\n",
       "    .dataframe tbody tr th:only-of-type {\n",
       "        vertical-align: middle;\n",
       "    }\n",
       "\n",
       "    .dataframe tbody tr th {\n",
       "        vertical-align: top;\n",
       "    }\n",
       "\n",
       "    .dataframe thead th {\n",
       "        text-align: right;\n",
       "    }\n",
       "</style>\n",
       "<table border=\"1\" class=\"dataframe\">\n",
       "  <thead>\n",
       "    <tr style=\"text-align: right;\">\n",
       "      <th></th>\n",
       "      <th>date</th>\n",
       "      <th>permno</th>\n",
       "      <th>ret</th>\n",
       "      <th>mktcap</th>\n",
       "      <th>rf</th>\n",
       "      <th>excess_ret</th>\n",
       "      <th>benchmark_excess_ret_x</th>\n",
       "      <th>benchmark_excess_ret_y</th>\n",
       "    </tr>\n",
       "  </thead>\n",
       "  <tbody>\n",
       "    <tr>\n",
       "      <th>0</th>\n",
       "      <td>192601</td>\n",
       "      <td>10006</td>\n",
       "      <td>0.032732</td>\n",
       "      <td>6.615000e+04</td>\n",
       "      <td>NaN</td>\n",
       "      <td>NaN</td>\n",
       "      <td>0.000000</td>\n",
       "      <td>0.000000</td>\n",
       "    </tr>\n",
       "    <tr>\n",
       "      <th>1</th>\n",
       "      <td>192601</td>\n",
       "      <td>10022</td>\n",
       "      <td>0.017857</td>\n",
       "      <td>1.140000e+04</td>\n",
       "      <td>NaN</td>\n",
       "      <td>NaN</td>\n",
       "      <td>0.000000</td>\n",
       "      <td>0.000000</td>\n",
       "    </tr>\n",
       "    <tr>\n",
       "      <th>2</th>\n",
       "      <td>192601</td>\n",
       "      <td>10030</td>\n",
       "      <td>0.161667</td>\n",
       "      <td>2.718300e+04</td>\n",
       "      <td>NaN</td>\n",
       "      <td>NaN</td>\n",
       "      <td>0.000000</td>\n",
       "      <td>0.000000</td>\n",
       "    </tr>\n",
       "    <tr>\n",
       "      <th>3</th>\n",
       "      <td>192601</td>\n",
       "      <td>10049</td>\n",
       "      <td>0.141892</td>\n",
       "      <td>2.087500e+04</td>\n",
       "      <td>NaN</td>\n",
       "      <td>NaN</td>\n",
       "      <td>0.000000</td>\n",
       "      <td>0.000000</td>\n",
       "    </tr>\n",
       "    <tr>\n",
       "      <th>4</th>\n",
       "      <td>192601</td>\n",
       "      <td>10057</td>\n",
       "      <td>-0.035714</td>\n",
       "      <td>5.906250e+03</td>\n",
       "      <td>NaN</td>\n",
       "      <td>NaN</td>\n",
       "      <td>0.000000</td>\n",
       "      <td>0.000000</td>\n",
       "    </tr>\n",
       "    <tr>\n",
       "      <th>...</th>\n",
       "      <td>...</td>\n",
       "      <td>...</td>\n",
       "      <td>...</td>\n",
       "      <td>...</td>\n",
       "      <td>...</td>\n",
       "      <td>...</td>\n",
       "      <td>...</td>\n",
       "      <td>...</td>\n",
       "    </tr>\n",
       "    <tr>\n",
       "      <th>4652772</th>\n",
       "      <td>202203</td>\n",
       "      <td>93426</td>\n",
       "      <td>0.023559</td>\n",
       "      <td>4.054758e+05</td>\n",
       "      <td>0.01</td>\n",
       "      <td>0.013559</td>\n",
       "      <td>0.031048</td>\n",
       "      <td>0.031048</td>\n",
       "    </tr>\n",
       "    <tr>\n",
       "      <th>4652773</th>\n",
       "      <td>202203</td>\n",
       "      <td>93427</td>\n",
       "      <td>0.049935</td>\n",
       "      <td>3.889284e+06</td>\n",
       "      <td>0.01</td>\n",
       "      <td>0.039935</td>\n",
       "      <td>0.031048</td>\n",
       "      <td>0.031048</td>\n",
       "    </tr>\n",
       "    <tr>\n",
       "      <th>4652774</th>\n",
       "      <td>202203</td>\n",
       "      <td>93429</td>\n",
       "      <td>-0.024469</td>\n",
       "      <td>1.219740e+07</td>\n",
       "      <td>0.01</td>\n",
       "      <td>-0.034469</td>\n",
       "      <td>0.031048</td>\n",
       "      <td>0.031048</td>\n",
       "    </tr>\n",
       "    <tr>\n",
       "      <th>4652775</th>\n",
       "      <td>202203</td>\n",
       "      <td>93434</td>\n",
       "      <td>-0.073913</td>\n",
       "      <td>8.287404e+04</td>\n",
       "      <td>0.01</td>\n",
       "      <td>-0.083913</td>\n",
       "      <td>0.031048</td>\n",
       "      <td>0.031048</td>\n",
       "    </tr>\n",
       "    <tr>\n",
       "      <th>4652776</th>\n",
       "      <td>202203</td>\n",
       "      <td>93436</td>\n",
       "      <td>0.238009</td>\n",
       "      <td>1.113736e+09</td>\n",
       "      <td>0.01</td>\n",
       "      <td>0.228009</td>\n",
       "      <td>0.031048</td>\n",
       "      <td>0.031048</td>\n",
       "    </tr>\n",
       "  </tbody>\n",
       "</table>\n",
       "<p>4652777 rows × 8 columns</p>\n",
       "</div>"
      ],
      "text/plain": [
       "           date  permno       ret        mktcap    rf  excess_ret  \\\n",
       "0        192601   10006  0.032732  6.615000e+04   NaN         NaN   \n",
       "1        192601   10022  0.017857  1.140000e+04   NaN         NaN   \n",
       "2        192601   10030  0.161667  2.718300e+04   NaN         NaN   \n",
       "3        192601   10049  0.141892  2.087500e+04   NaN         NaN   \n",
       "4        192601   10057 -0.035714  5.906250e+03   NaN         NaN   \n",
       "...         ...     ...       ...           ...   ...         ...   \n",
       "4652772  202203   93426  0.023559  4.054758e+05  0.01    0.013559   \n",
       "4652773  202203   93427  0.049935  3.889284e+06  0.01    0.039935   \n",
       "4652774  202203   93429 -0.024469  1.219740e+07  0.01   -0.034469   \n",
       "4652775  202203   93434 -0.073913  8.287404e+04  0.01   -0.083913   \n",
       "4652776  202203   93436  0.238009  1.113736e+09  0.01    0.228009   \n",
       "\n",
       "         benchmark_excess_ret_x  benchmark_excess_ret_y  \n",
       "0                      0.000000                0.000000  \n",
       "1                      0.000000                0.000000  \n",
       "2                      0.000000                0.000000  \n",
       "3                      0.000000                0.000000  \n",
       "4                      0.000000                0.000000  \n",
       "...                         ...                     ...  \n",
       "4652772                0.031048                0.031048  \n",
       "4652773                0.031048                0.031048  \n",
       "4652774                0.031048                0.031048  \n",
       "4652775                0.031048                0.031048  \n",
       "4652776                0.031048                0.031048  \n",
       "\n",
       "[4652777 rows x 8 columns]"
      ]
     },
     "execution_count": 22,
     "metadata": {},
     "output_type": "execute_result"
    }
   ],
   "source": [
    "returndata"
   ]
  },
  {
   "cell_type": "code",
   "execution_count": 26,
   "metadata": {},
   "outputs": [],
   "source": [
    "portfolio_excess_ret = portfolio_excess_ret.reset_index().rename(columns={0: 'benchmark_excess_ret'})"
   ]
  },
  {
   "cell_type": "code",
   "execution_count": 27,
   "metadata": {},
   "outputs": [],
   "source": [
    "portfolio_excess_ret.to_csv('data/portfolio_excess_ret.csv')"
   ]
  },
  {
   "cell_type": "code",
   "execution_count": null,
   "metadata": {},
   "outputs": [],
   "source": []
  }
 ],
 "metadata": {
  "interpreter": {
   "hash": "730efbd4681f598c9f4d35ac363e456b0abcc0de41ab2525c32205e7b077dac3"
  },
  "kernelspec": {
   "display_name": "Python 3.9.13 64-bit",
   "language": "python",
   "name": "python3"
  },
  "language_info": {
   "codemirror_mode": {
    "name": "ipython",
    "version": 3
   },
   "file_extension": ".py",
   "mimetype": "text/x-python",
   "name": "python",
   "nbconvert_exporter": "python",
   "pygments_lexer": "ipython3",
   "version": "3.9.13"
  },
  "orig_nbformat": 4
 },
 "nbformat": 4,
 "nbformat_minor": 2
}

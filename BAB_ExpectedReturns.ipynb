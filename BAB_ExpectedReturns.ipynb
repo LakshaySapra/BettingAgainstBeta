{
 "cells": [
  {
   "cell_type": "code",
   "execution_count": 1,
   "metadata": {},
   "outputs": [],
   "source": [
    "import pandas as pd\n",
    "import numpy as np\n",
    "from matplotlib import pyplot as plt\n",
    "import seaborn as sns\n",
    "from tqdm.auto import tqdm\n",
    "from pandas.tseries.offsets import BMonthEnd\n",
    "import datetime\n",
    "import statsmodels.api as sm\n",
    "from scipy.stats import ttest_1samp\n",
    "\n",
    "import warnings\n",
    "warnings.simplefilter(action='ignore', category=FutureWarning)"
   ]
  },
  {
   "cell_type": "code",
   "execution_count": 2,
   "metadata": {},
   "outputs": [
    {
     "data": {
      "text/html": [
       "<div>\n",
       "<style scoped>\n",
       "    .dataframe tbody tr th:only-of-type {\n",
       "        vertical-align: middle;\n",
       "    }\n",
       "\n",
       "    .dataframe tbody tr th {\n",
       "        vertical-align: top;\n",
       "    }\n",
       "\n",
       "    .dataframe thead th {\n",
       "        text-align: right;\n",
       "    }\n",
       "</style>\n",
       "<table border=\"1\" class=\"dataframe\">\n",
       "  <thead>\n",
       "    <tr style=\"text-align: right;\">\n",
       "      <th></th>\n",
       "      <th></th>\n",
       "      <th>ret</th>\n",
       "      <th>mktcap</th>\n",
       "      <th>rf</th>\n",
       "      <th>excess_ret</th>\n",
       "      <th>benchmark_excess_ret</th>\n",
       "      <th>beta_5</th>\n",
       "      <th>beta_10</th>\n",
       "      <th>beta_20</th>\n",
       "      <th>beta_30</th>\n",
       "    </tr>\n",
       "    <tr>\n",
       "      <th>date</th>\n",
       "      <th>permno</th>\n",
       "      <th></th>\n",
       "      <th></th>\n",
       "      <th></th>\n",
       "      <th></th>\n",
       "      <th></th>\n",
       "      <th></th>\n",
       "      <th></th>\n",
       "      <th></th>\n",
       "      <th></th>\n",
       "    </tr>\n",
       "  </thead>\n",
       "  <tbody>\n",
       "    <tr>\n",
       "      <th rowspan=\"5\" valign=\"top\">1926-01-29</th>\n",
       "      <th>10006</th>\n",
       "      <td>0.032732</td>\n",
       "      <td>6.615000e+04</td>\n",
       "      <td>NaN</td>\n",
       "      <td>NaN</td>\n",
       "      <td>0.000000</td>\n",
       "      <td>NaN</td>\n",
       "      <td>NaN</td>\n",
       "      <td>NaN</td>\n",
       "      <td>NaN</td>\n",
       "    </tr>\n",
       "    <tr>\n",
       "      <th>10022</th>\n",
       "      <td>0.017857</td>\n",
       "      <td>1.140000e+04</td>\n",
       "      <td>NaN</td>\n",
       "      <td>NaN</td>\n",
       "      <td>0.000000</td>\n",
       "      <td>NaN</td>\n",
       "      <td>NaN</td>\n",
       "      <td>NaN</td>\n",
       "      <td>NaN</td>\n",
       "    </tr>\n",
       "    <tr>\n",
       "      <th>10030</th>\n",
       "      <td>0.161667</td>\n",
       "      <td>2.718300e+04</td>\n",
       "      <td>NaN</td>\n",
       "      <td>NaN</td>\n",
       "      <td>0.000000</td>\n",
       "      <td>NaN</td>\n",
       "      <td>NaN</td>\n",
       "      <td>NaN</td>\n",
       "      <td>NaN</td>\n",
       "    </tr>\n",
       "    <tr>\n",
       "      <th>10049</th>\n",
       "      <td>0.141892</td>\n",
       "      <td>2.087500e+04</td>\n",
       "      <td>NaN</td>\n",
       "      <td>NaN</td>\n",
       "      <td>0.000000</td>\n",
       "      <td>NaN</td>\n",
       "      <td>NaN</td>\n",
       "      <td>NaN</td>\n",
       "      <td>NaN</td>\n",
       "    </tr>\n",
       "    <tr>\n",
       "      <th>10057</th>\n",
       "      <td>-0.035714</td>\n",
       "      <td>5.906250e+03</td>\n",
       "      <td>NaN</td>\n",
       "      <td>NaN</td>\n",
       "      <td>0.000000</td>\n",
       "      <td>NaN</td>\n",
       "      <td>NaN</td>\n",
       "      <td>NaN</td>\n",
       "      <td>NaN</td>\n",
       "    </tr>\n",
       "    <tr>\n",
       "      <th>...</th>\n",
       "      <th>...</th>\n",
       "      <td>...</td>\n",
       "      <td>...</td>\n",
       "      <td>...</td>\n",
       "      <td>...</td>\n",
       "      <td>...</td>\n",
       "      <td>...</td>\n",
       "      <td>...</td>\n",
       "      <td>...</td>\n",
       "      <td>...</td>\n",
       "    </tr>\n",
       "    <tr>\n",
       "      <th rowspan=\"5\" valign=\"top\">2022-03-31</th>\n",
       "      <th>93426</th>\n",
       "      <td>0.023559</td>\n",
       "      <td>4.054758e+05</td>\n",
       "      <td>0.01</td>\n",
       "      <td>0.013559</td>\n",
       "      <td>0.031048</td>\n",
       "      <td>1.289819</td>\n",
       "      <td>1.196555</td>\n",
       "      <td>1.162551</td>\n",
       "      <td>1.129329</td>\n",
       "    </tr>\n",
       "    <tr>\n",
       "      <th>93427</th>\n",
       "      <td>0.049935</td>\n",
       "      <td>3.889284e+06</td>\n",
       "      <td>0.01</td>\n",
       "      <td>0.039935</td>\n",
       "      <td>0.031048</td>\n",
       "      <td>1.119160</td>\n",
       "      <td>0.763804</td>\n",
       "      <td>0.859076</td>\n",
       "      <td>0.903141</td>\n",
       "    </tr>\n",
       "    <tr>\n",
       "      <th>93429</th>\n",
       "      <td>-0.024469</td>\n",
       "      <td>1.219740e+07</td>\n",
       "      <td>0.01</td>\n",
       "      <td>-0.034469</td>\n",
       "      <td>0.031048</td>\n",
       "      <td>0.640248</td>\n",
       "      <td>0.905225</td>\n",
       "      <td>0.963663</td>\n",
       "      <td>0.948496</td>\n",
       "    </tr>\n",
       "    <tr>\n",
       "      <th>93434</th>\n",
       "      <td>-0.073913</td>\n",
       "      <td>8.287404e+04</td>\n",
       "      <td>0.01</td>\n",
       "      <td>-0.083913</td>\n",
       "      <td>0.031048</td>\n",
       "      <td>2.209166</td>\n",
       "      <td>2.623052</td>\n",
       "      <td>1.460519</td>\n",
       "      <td>1.185026</td>\n",
       "    </tr>\n",
       "    <tr>\n",
       "      <th>93436</th>\n",
       "      <td>0.238009</td>\n",
       "      <td>1.113736e+09</td>\n",
       "      <td>0.01</td>\n",
       "      <td>0.228009</td>\n",
       "      <td>0.031048</td>\n",
       "      <td>3.728205</td>\n",
       "      <td>2.899511</td>\n",
       "      <td>1.887399</td>\n",
       "      <td>1.664232</td>\n",
       "    </tr>\n",
       "  </tbody>\n",
       "</table>\n",
       "<p>4652777 rows × 9 columns</p>\n",
       "</div>"
      ],
      "text/plain": [
       "                        ret        mktcap    rf  excess_ret  \\\n",
       "date       permno                                             \n",
       "1926-01-29 10006   0.032732  6.615000e+04   NaN         NaN   \n",
       "           10022   0.017857  1.140000e+04   NaN         NaN   \n",
       "           10030   0.161667  2.718300e+04   NaN         NaN   \n",
       "           10049   0.141892  2.087500e+04   NaN         NaN   \n",
       "           10057  -0.035714  5.906250e+03   NaN         NaN   \n",
       "...                     ...           ...   ...         ...   \n",
       "2022-03-31 93426   0.023559  4.054758e+05  0.01    0.013559   \n",
       "           93427   0.049935  3.889284e+06  0.01    0.039935   \n",
       "           93429  -0.024469  1.219740e+07  0.01   -0.034469   \n",
       "           93434  -0.073913  8.287404e+04  0.01   -0.083913   \n",
       "           93436   0.238009  1.113736e+09  0.01    0.228009   \n",
       "\n",
       "                   benchmark_excess_ret    beta_5   beta_10   beta_20  \\\n",
       "date       permno                                                       \n",
       "1926-01-29 10006               0.000000       NaN       NaN       NaN   \n",
       "           10022               0.000000       NaN       NaN       NaN   \n",
       "           10030               0.000000       NaN       NaN       NaN   \n",
       "           10049               0.000000       NaN       NaN       NaN   \n",
       "           10057               0.000000       NaN       NaN       NaN   \n",
       "...                                 ...       ...       ...       ...   \n",
       "2022-03-31 93426               0.031048  1.289819  1.196555  1.162551   \n",
       "           93427               0.031048  1.119160  0.763804  0.859076   \n",
       "           93429               0.031048  0.640248  0.905225  0.963663   \n",
       "           93434               0.031048  2.209166  2.623052  1.460519   \n",
       "           93436               0.031048  3.728205  2.899511  1.887399   \n",
       "\n",
       "                    beta_30  \n",
       "date       permno            \n",
       "1926-01-29 10006        NaN  \n",
       "           10022        NaN  \n",
       "           10030        NaN  \n",
       "           10049        NaN  \n",
       "           10057        NaN  \n",
       "...                     ...  \n",
       "2022-03-31 93426   1.129329  \n",
       "           93427   0.903141  \n",
       "           93429   0.948496  \n",
       "           93434   1.185026  \n",
       "           93436   1.664232  \n",
       "\n",
       "[4652777 rows x 9 columns]"
      ]
     },
     "execution_count": 2,
     "metadata": {},
     "output_type": "execute_result"
    }
   ],
   "source": [
    "df = pd.read_csv('data/return_pf_excess_ret_beta.csv',index_col=0)\n",
    "df['date'] = pd.to_datetime(df['date'],format='%Y%m') + BMonthEnd()\n",
    "df = df.set_index(['date','permno'])\n",
    "df"
   ]
  },
  {
   "cell_type": "code",
   "execution_count": 3,
   "metadata": {},
   "outputs": [
    {
     "data": {
      "text/plain": [
       "            permno\n",
       "1980-01-31  10006     0.122766\n",
       "            10057     0.193021\n",
       "            10065     0.040370\n",
       "            10137    -0.072791\n",
       "            10145     0.058407\n",
       "                        ...   \n",
       "2022-03-31  93419     0.057479\n",
       "            93423    -0.027426\n",
       "            93427     0.035173\n",
       "            93429    -0.046218\n",
       "            93436     0.143481\n",
       "Length: 1006577, dtype: float64"
      ]
     },
     "execution_count": 3,
     "metadata": {},
     "output_type": "execute_result"
    }
   ],
   "source": [
    "spec_df = pd.read_pickle('data/specific_returns_halflife36_TOP2000.pkl')\n",
    "spec_df = spec_df.stack()\n",
    "spec_df.loc['1980-01-01':]\n"
   ]
  },
  {
   "cell_type": "code",
   "execution_count": 4,
   "metadata": {},
   "outputs": [
    {
     "name": "stderr",
     "output_type": "stream",
     "text": [
      "100%|██████████| 4/4 [00:25<00:00,  6.34s/it]\n"
     ]
    },
    {
     "data": {
      "text/html": [
       "<div>\n",
       "<style scoped>\n",
       "    .dataframe tbody tr th:only-of-type {\n",
       "        vertical-align: middle;\n",
       "    }\n",
       "\n",
       "    .dataframe tbody tr th {\n",
       "        vertical-align: top;\n",
       "    }\n",
       "\n",
       "    .dataframe thead th {\n",
       "        text-align: right;\n",
       "    }\n",
       "</style>\n",
       "<table border=\"1\" class=\"dataframe\">\n",
       "  <thead>\n",
       "    <tr style=\"text-align: right;\">\n",
       "      <th></th>\n",
       "      <th></th>\n",
       "      <th>ret</th>\n",
       "      <th>mktcap</th>\n",
       "      <th>rf</th>\n",
       "      <th>excess_ret</th>\n",
       "      <th>benchmark_excess_ret</th>\n",
       "      <th>beta_5</th>\n",
       "      <th>beta_10</th>\n",
       "      <th>beta_20</th>\n",
       "      <th>beta_30</th>\n",
       "      <th>spec_ret</th>\n",
       "      <th>beta_5_lag</th>\n",
       "      <th>beta_10_lag</th>\n",
       "      <th>beta_20_lag</th>\n",
       "      <th>beta_30_lag</th>\n",
       "    </tr>\n",
       "    <tr>\n",
       "      <th>date</th>\n",
       "      <th>permno</th>\n",
       "      <th></th>\n",
       "      <th></th>\n",
       "      <th></th>\n",
       "      <th></th>\n",
       "      <th></th>\n",
       "      <th></th>\n",
       "      <th></th>\n",
       "      <th></th>\n",
       "      <th></th>\n",
       "      <th></th>\n",
       "      <th></th>\n",
       "      <th></th>\n",
       "      <th></th>\n",
       "      <th></th>\n",
       "    </tr>\n",
       "  </thead>\n",
       "  <tbody>\n",
       "    <tr>\n",
       "      <th rowspan=\"5\" valign=\"top\">1926-01-29</th>\n",
       "      <th>10006</th>\n",
       "      <td>0.032732</td>\n",
       "      <td>6.615000e+04</td>\n",
       "      <td>NaN</td>\n",
       "      <td>NaN</td>\n",
       "      <td>0.000000</td>\n",
       "      <td>NaN</td>\n",
       "      <td>NaN</td>\n",
       "      <td>NaN</td>\n",
       "      <td>NaN</td>\n",
       "      <td>NaN</td>\n",
       "      <td>NaN</td>\n",
       "      <td>NaN</td>\n",
       "      <td>NaN</td>\n",
       "      <td>NaN</td>\n",
       "    </tr>\n",
       "    <tr>\n",
       "      <th>10022</th>\n",
       "      <td>0.017857</td>\n",
       "      <td>1.140000e+04</td>\n",
       "      <td>NaN</td>\n",
       "      <td>NaN</td>\n",
       "      <td>0.000000</td>\n",
       "      <td>NaN</td>\n",
       "      <td>NaN</td>\n",
       "      <td>NaN</td>\n",
       "      <td>NaN</td>\n",
       "      <td>NaN</td>\n",
       "      <td>NaN</td>\n",
       "      <td>NaN</td>\n",
       "      <td>NaN</td>\n",
       "      <td>NaN</td>\n",
       "    </tr>\n",
       "    <tr>\n",
       "      <th>10030</th>\n",
       "      <td>0.161667</td>\n",
       "      <td>2.718300e+04</td>\n",
       "      <td>NaN</td>\n",
       "      <td>NaN</td>\n",
       "      <td>0.000000</td>\n",
       "      <td>NaN</td>\n",
       "      <td>NaN</td>\n",
       "      <td>NaN</td>\n",
       "      <td>NaN</td>\n",
       "      <td>NaN</td>\n",
       "      <td>NaN</td>\n",
       "      <td>NaN</td>\n",
       "      <td>NaN</td>\n",
       "      <td>NaN</td>\n",
       "    </tr>\n",
       "    <tr>\n",
       "      <th>10049</th>\n",
       "      <td>0.141892</td>\n",
       "      <td>2.087500e+04</td>\n",
       "      <td>NaN</td>\n",
       "      <td>NaN</td>\n",
       "      <td>0.000000</td>\n",
       "      <td>NaN</td>\n",
       "      <td>NaN</td>\n",
       "      <td>NaN</td>\n",
       "      <td>NaN</td>\n",
       "      <td>NaN</td>\n",
       "      <td>NaN</td>\n",
       "      <td>NaN</td>\n",
       "      <td>NaN</td>\n",
       "      <td>NaN</td>\n",
       "    </tr>\n",
       "    <tr>\n",
       "      <th>10057</th>\n",
       "      <td>-0.035714</td>\n",
       "      <td>5.906250e+03</td>\n",
       "      <td>NaN</td>\n",
       "      <td>NaN</td>\n",
       "      <td>0.000000</td>\n",
       "      <td>NaN</td>\n",
       "      <td>NaN</td>\n",
       "      <td>NaN</td>\n",
       "      <td>NaN</td>\n",
       "      <td>NaN</td>\n",
       "      <td>NaN</td>\n",
       "      <td>NaN</td>\n",
       "      <td>NaN</td>\n",
       "      <td>NaN</td>\n",
       "    </tr>\n",
       "    <tr>\n",
       "      <th>...</th>\n",
       "      <th>...</th>\n",
       "      <td>...</td>\n",
       "      <td>...</td>\n",
       "      <td>...</td>\n",
       "      <td>...</td>\n",
       "      <td>...</td>\n",
       "      <td>...</td>\n",
       "      <td>...</td>\n",
       "      <td>...</td>\n",
       "      <td>...</td>\n",
       "      <td>...</td>\n",
       "      <td>...</td>\n",
       "      <td>...</td>\n",
       "      <td>...</td>\n",
       "      <td>...</td>\n",
       "    </tr>\n",
       "    <tr>\n",
       "      <th rowspan=\"5\" valign=\"top\">2022-03-31</th>\n",
       "      <th>93426</th>\n",
       "      <td>0.023559</td>\n",
       "      <td>4.054758e+05</td>\n",
       "      <td>0.01</td>\n",
       "      <td>0.013559</td>\n",
       "      <td>0.031048</td>\n",
       "      <td>1.289819</td>\n",
       "      <td>1.196555</td>\n",
       "      <td>1.162551</td>\n",
       "      <td>1.129329</td>\n",
       "      <td>NaN</td>\n",
       "      <td>1.370164</td>\n",
       "      <td>1.210224</td>\n",
       "      <td>1.167452</td>\n",
       "      <td>1.133371</td>\n",
       "    </tr>\n",
       "    <tr>\n",
       "      <th>93427</th>\n",
       "      <td>0.049935</td>\n",
       "      <td>3.889284e+06</td>\n",
       "      <td>0.01</td>\n",
       "      <td>0.039935</td>\n",
       "      <td>0.031048</td>\n",
       "      <td>1.119160</td>\n",
       "      <td>0.763804</td>\n",
       "      <td>0.859076</td>\n",
       "      <td>0.903141</td>\n",
       "      <td>0.035173</td>\n",
       "      <td>0.902674</td>\n",
       "      <td>0.712518</td>\n",
       "      <td>0.850153</td>\n",
       "      <td>0.898269</td>\n",
       "    </tr>\n",
       "    <tr>\n",
       "      <th>93429</th>\n",
       "      <td>-0.024469</td>\n",
       "      <td>1.219740e+07</td>\n",
       "      <td>0.01</td>\n",
       "      <td>-0.034469</td>\n",
       "      <td>0.031048</td>\n",
       "      <td>0.640248</td>\n",
       "      <td>0.905225</td>\n",
       "      <td>0.963663</td>\n",
       "      <td>0.948496</td>\n",
       "      <td>-0.046218</td>\n",
       "      <td>1.047012</td>\n",
       "      <td>1.048456</td>\n",
       "      <td>1.001944</td>\n",
       "      <td>0.972102</td>\n",
       "    </tr>\n",
       "    <tr>\n",
       "      <th>93434</th>\n",
       "      <td>-0.073913</td>\n",
       "      <td>8.287404e+04</td>\n",
       "      <td>0.01</td>\n",
       "      <td>-0.083913</td>\n",
       "      <td>0.031048</td>\n",
       "      <td>2.209166</td>\n",
       "      <td>2.623052</td>\n",
       "      <td>1.460519</td>\n",
       "      <td>1.185026</td>\n",
       "      <td>NaN</td>\n",
       "      <td>3.397913</td>\n",
       "      <td>2.959594</td>\n",
       "      <td>1.536929</td>\n",
       "      <td>1.232479</td>\n",
       "    </tr>\n",
       "    <tr>\n",
       "      <th>93436</th>\n",
       "      <td>0.238009</td>\n",
       "      <td>1.113736e+09</td>\n",
       "      <td>0.01</td>\n",
       "      <td>0.228009</td>\n",
       "      <td>0.031048</td>\n",
       "      <td>3.728205</td>\n",
       "      <td>2.899511</td>\n",
       "      <td>1.887399</td>\n",
       "      <td>1.664232</td>\n",
       "      <td>0.143481</td>\n",
       "      <td>2.646297</td>\n",
       "      <td>2.556310</td>\n",
       "      <td>1.800245</td>\n",
       "      <td>1.613183</td>\n",
       "    </tr>\n",
       "  </tbody>\n",
       "</table>\n",
       "<p>4652777 rows × 14 columns</p>\n",
       "</div>"
      ],
      "text/plain": [
       "                        ret        mktcap    rf  excess_ret  \\\n",
       "date       permno                                             \n",
       "1926-01-29 10006   0.032732  6.615000e+04   NaN         NaN   \n",
       "           10022   0.017857  1.140000e+04   NaN         NaN   \n",
       "           10030   0.161667  2.718300e+04   NaN         NaN   \n",
       "           10049   0.141892  2.087500e+04   NaN         NaN   \n",
       "           10057  -0.035714  5.906250e+03   NaN         NaN   \n",
       "...                     ...           ...   ...         ...   \n",
       "2022-03-31 93426   0.023559  4.054758e+05  0.01    0.013559   \n",
       "           93427   0.049935  3.889284e+06  0.01    0.039935   \n",
       "           93429  -0.024469  1.219740e+07  0.01   -0.034469   \n",
       "           93434  -0.073913  8.287404e+04  0.01   -0.083913   \n",
       "           93436   0.238009  1.113736e+09  0.01    0.228009   \n",
       "\n",
       "                   benchmark_excess_ret    beta_5   beta_10   beta_20  \\\n",
       "date       permno                                                       \n",
       "1926-01-29 10006               0.000000       NaN       NaN       NaN   \n",
       "           10022               0.000000       NaN       NaN       NaN   \n",
       "           10030               0.000000       NaN       NaN       NaN   \n",
       "           10049               0.000000       NaN       NaN       NaN   \n",
       "           10057               0.000000       NaN       NaN       NaN   \n",
       "...                                 ...       ...       ...       ...   \n",
       "2022-03-31 93426               0.031048  1.289819  1.196555  1.162551   \n",
       "           93427               0.031048  1.119160  0.763804  0.859076   \n",
       "           93429               0.031048  0.640248  0.905225  0.963663   \n",
       "           93434               0.031048  2.209166  2.623052  1.460519   \n",
       "           93436               0.031048  3.728205  2.899511  1.887399   \n",
       "\n",
       "                    beta_30  spec_ret  beta_5_lag  beta_10_lag  beta_20_lag  \\\n",
       "date       permno                                                             \n",
       "1926-01-29 10006        NaN       NaN         NaN          NaN          NaN   \n",
       "           10022        NaN       NaN         NaN          NaN          NaN   \n",
       "           10030        NaN       NaN         NaN          NaN          NaN   \n",
       "           10049        NaN       NaN         NaN          NaN          NaN   \n",
       "           10057        NaN       NaN         NaN          NaN          NaN   \n",
       "...                     ...       ...         ...          ...          ...   \n",
       "2022-03-31 93426   1.129329       NaN    1.370164     1.210224     1.167452   \n",
       "           93427   0.903141  0.035173    0.902674     0.712518     0.850153   \n",
       "           93429   0.948496 -0.046218    1.047012     1.048456     1.001944   \n",
       "           93434   1.185026       NaN    3.397913     2.959594     1.536929   \n",
       "           93436   1.664232  0.143481    2.646297     2.556310     1.800245   \n",
       "\n",
       "                   beta_30_lag  \n",
       "date       permno               \n",
       "1926-01-29 10006           NaN  \n",
       "           10022           NaN  \n",
       "           10030           NaN  \n",
       "           10049           NaN  \n",
       "           10057           NaN  \n",
       "...                        ...  \n",
       "2022-03-31 93426      1.133371  \n",
       "           93427      0.898269  \n",
       "           93429      0.972102  \n",
       "           93434      1.232479  \n",
       "           93436      1.613183  \n",
       "\n",
       "[4652777 rows x 14 columns]"
      ]
     },
     "execution_count": 4,
     "metadata": {},
     "output_type": "execute_result"
    }
   ],
   "source": [
    "df['spec_ret'] = spec_df\n",
    "for col_name in tqdm(['beta_5','beta_10','beta_20','beta_30']):\n",
    "    tmp = df[col_name].unstack()\n",
    "    tmp = tmp.shift(1)\n",
    "    tmp = tmp.stack()\n",
    "    df[col_name+\"_lag\"] = tmp\n",
    "df"
   ]
  },
  {
   "cell_type": "code",
   "execution_count": 5,
   "metadata": {},
   "outputs": [],
   "source": [
    "initial_date = datetime.date(1970,1,1) + BMonthEnd()\n",
    "validation_final_date = datetime.date(1999,12,1) + BMonthEnd()\n",
    "\n",
    "df_train = df[(df.index.get_level_values('date') <= validation_final_date)&(df.index.get_level_values('date') >= initial_date)]\n",
    "df_test = df[(df.index.get_level_values('date') > validation_final_date)]"
   ]
  },
  {
   "cell_type": "code",
   "execution_count": 6,
   "metadata": {},
   "outputs": [],
   "source": [
    "def shrink_beta(beta,weight=0.5,target=1):\n",
    "    return weight*beta + (1-weight)*target\n",
    "\n",
    "def sigmoid_beta(beta):\n",
    "    return 1/(1+np.exp(np.minimum(np.maximum(-(beta-1),-10),10)))\n",
    "\n",
    "def z_score(beta,clip=None,iqr=False):\n",
    "    z = (beta - np.mean(beta))\n",
    "    if iqr:\n",
    "        z/= np.quantile(beta,0.75) - np.quantile(beta,0.25)\n",
    "    else:\n",
    "        z/=np.std(beta)\n",
    "    if clip:\n",
    "        z = np.maximum(z,clip[0])\n",
    "        z = np.minimum(z,clip[1])\n",
    "    return z"
   ]
  },
  {
   "cell_type": "markdown",
   "metadata": {},
   "source": [
    "## Train"
   ]
  },
  {
   "cell_type": "code",
   "execution_count": 21,
   "metadata": {},
   "outputs": [
    {
     "name": "stderr",
     "output_type": "stream",
     "text": [
      "359it [00:25, 13.97it/s]\n"
     ]
    }
   ],
   "source": [
    "reg_results = dict(zip(['beta_5_lag','beta_10_lag','beta_20_lag','beta_30_lag'],[[] for i in range(4)]))\n",
    "date_idx = df_train.index.get_level_values('date').unique()\n",
    "\n",
    "for i,date in tqdm(enumerate(date_idx[:-1])):\n",
    "    if i<=60:\n",
    "        continue\n",
    "    X = df_train.loc[date,['beta_5_lag','beta_10_lag','beta_20_lag','beta_30_lag']].dropna()\n",
    "    y = df_train.loc[date,'spec_ret'].dropna()\n",
    "    y_next = df_train.loc[date_idx[i+1],'spec_ret'].dropna()\n",
    "    # X,y = X.align(y,join='inner',axis=0)\n",
    "    for col in ['beta_5_lag','beta_10_lag','beta_20_lag','beta_30_lag']:\n",
    "        cur_X = X[[col]]\n",
    "        cur_X = cur_X.clip(-5,6)\n",
    "        cur_X= shrink_beta(cur_X)\n",
    "        # cur_X = sigmoid_beta(cur_X)\n",
    "        #cur_X= z_score(cur_X,clip=None,iqr=False)\n",
    "        # cur_X = cur_X.rank(axis=0,numeric_only=True,pct=True,ascending=True)\n",
    "\n",
    "        cur_X,cur_y = cur_X.align(y,join='inner',axis=0)\n",
    "        # cur_y=y\n",
    "\n",
    "\n",
    "        res = sm.OLS(cur_y,sm.add_constant(cur_X)).fit()\n",
    "        #res = sm.RLM(cur_y,sm.add_constant(cur_X), M=sm.robust.norms.HuberT()).fit(scale_est=sm.robust.scale.HuberScale())\n",
    "        cur_y_pred = res.predict(sm.add_constant(cur_X))\n",
    "        \n",
    "        cur_y_pred_next, cur_y_next = cur_y_pred.align(y_next,join='inner',axis=0)\n",
    "\n",
    "        # display(res.summary())\n",
    "        res_ser = pd.Series({\n",
    "            \"const\": res.params.const,\n",
    "            \"coef\": res.params[col],\n",
    "            \"t_stat\": res.tvalues[col],\n",
    "            # \"r2\": res.rsquared\n",
    "            \"r2\": 1 - np.var(cur_y-cur_y_pred)/np.var(cur_y),\n",
    "            \"r2_oos\": 1 - np.var(cur_y_next-cur_y_pred_next)/np.var(cur_y_next),\n",
    "        },name=date)\n",
    "        reg_results[col].append(res_ser)"
   ]
  },
  {
   "cell_type": "code",
   "execution_count": 22,
   "metadata": {},
   "outputs": [
    {
     "data": {
      "image/png": "[encoded data removed]",
      "text/plain": [
       "<Figure size 432x288 with 1 Axes>"
      ]
     },
     "metadata": {
      "needs_background": "light"
     },
     "output_type": "display_data"
    },
    {
     "name": "stdout",
     "output_type": "stream",
     "text": [
      "0.03143751889004946\n",
      "Ttest_1sampResult(statistic=1.9651067818174615, pvalue=0.05033366737027466)\n"
     ]
    },
    {
     "data": {
      "image/png": "[encoded data removed]",
      "text/plain": [
       "<Figure size 432x288 with 1 Axes>"
      ]
     },
     "metadata": {
      "needs_background": "light"
     },
     "output_type": "display_data"
    }
   ],
   "source": [
    "tmp = pd.DataFrame(reg_results['beta_30_lag'])['const'].loc['1975-01-01':]\n",
    "sns.histplot(tmp)\n",
    "plt.show()\n",
    "tmp.ewm(36,min_periods=36).mean().plot(legend=True)\n",
    "print(tmp.mean())\n",
    "print(ttest_1samp(tmp,0))"
   ]
  },
  {
   "cell_type": "code",
   "execution_count": 23,
   "metadata": {},
   "outputs": [
    {
     "data": {
      "image/png": "[encoded data removed]",
      "text/plain": [
       "<Figure size 432x288 with 1 Axes>"
      ]
     },
     "metadata": {
      "needs_background": "light"
     },
     "output_type": "display_data"
    },
    {
     "name": "stdout",
     "output_type": "stream",
     "text": [
      "-0.025640130874520616\n",
      "Ttest_1sampResult(statistic=-1.6260703589048533, pvalue=0.10499523512305031)\n"
     ]
    },
    {
     "data": {
      "image/png": "[encoded data removed]",
      "text/plain": [
       "<Figure size 432x288 with 1 Axes>"
      ]
     },
     "metadata": {
      "needs_background": "light"
     },
     "output_type": "display_data"
    }
   ],
   "source": [
    "tmp = pd.DataFrame(reg_results['beta_30_lag'])['coef'].loc['1975-01-01':]\n",
    "sns.histplot(tmp)\n",
    "plt.show()\n",
    "tmp.ewm(36,min_periods=36).mean().plot(legend=True,ylabel='coef (EWM36 smoothed)',xlabel='date')\n",
    "print(tmp.mean())\n",
    "print(ttest_1samp(tmp,0))"
   ]
  },
  {
   "cell_type": "code",
   "execution_count": 24,
   "metadata": {},
   "outputs": [
    {
     "data": {
      "text/plain": [
       "Text(0.5, 1.0, 'OLS Regression Coefficient (EWM 36 periods)')"
      ]
     },
     "execution_count": 24,
     "metadata": {},
     "output_type": "execute_result"
    },
    {
     "data": {
      "image/png": "[encoded data removed]",
      "text/plain": [
       "<Figure size 648x432 with 1 Axes>"
      ]
     },
     "metadata": {
      "needs_background": "light"
     },
     "output_type": "display_data"
    }
   ],
   "source": [
    "fig, ax = plt.subplots(1, 1, figsize=(9, 6))\n",
    "ax.plot(tmp.ewm(36,min_periods=36).mean(), lw=3)#.plot(legend=True,ylabel='coef (EWM36 smoothed)',xlabel='date', ax=ax)\n",
    "ax.set_xlabel('Year', size=16)\n",
    "ax.grid(lw=1, ls='--', color='gray')\n",
    "ax.set_ylabel('$\\\\bar{\\lambda}$', size=16)\n",
    "ax.tick_params('both', labelsize=14)\n",
    "ax.set_title('OLS Regression Coefficient (EWM 36 periods)', size=18)"
   ]
  },
  {
   "cell_type": "code",
   "execution_count": 30,
   "metadata": {},
   "outputs": [
    {
     "data": {
      "image/png": "[encoded data removed]",
      "text/plain": [
       "<Figure size 432x288 with 1 Axes>"
      ]
     },
     "metadata": {
      "needs_background": "light"
     },
     "output_type": "display_data"
    },
    {
     "name": "stdout",
     "output_type": "stream",
     "text": [
      "-0.8170436554914524\n"
     ]
    },
    {
     "data": {
      "image/png": "[encoded data removed]",
      "text/plain": [
       "<Figure size 432x288 with 1 Axes>"
      ]
     },
     "metadata": {
      "needs_background": "light"
     },
     "output_type": "display_data"
    }
   ],
   "source": [
    "tmp = pd.DataFrame(reg_results['beta_30_lag'])['t_stat'].loc['1975-01-01':]\n",
    "sns.histplot(tmp)\n",
    "plt.show()\n",
    "tmp.ewm(36,min_periods=36).mean().plot(legend=True)\n",
    "print(tmp.mean())"
   ]
  },
  {
   "cell_type": "code",
   "execution_count": 31,
   "metadata": {},
   "outputs": [
    {
     "data": {
      "image/png": "[encoded data removed]",
      "text/plain": [
       "<Figure size 432x288 with 1 Axes>"
      ]
     },
     "metadata": {
      "needs_background": "light"
     },
     "output_type": "display_data"
    },
    {
     "name": "stdout",
     "output_type": "stream",
     "text": [
      "0.019778230677397868\n"
     ]
    },
    {
     "data": {
      "image/png": "[encoded data removed]",
      "text/plain": [
       "<Figure size 432x288 with 1 Axes>"
      ]
     },
     "metadata": {
      "needs_background": "light"
     },
     "output_type": "display_data"
    }
   ],
   "source": [
    "tmp = pd.DataFrame(reg_results['beta_30_lag'])['r2'].loc['1975-01-01':]\n",
    "sns.histplot(tmp)\n",
    "plt.show()\n",
    "tmp.ewm(36,min_periods=36).mean().plot(legend=True)\n",
    "print(tmp.mean())"
   ]
  },
  {
   "cell_type": "code",
   "execution_count": 32,
   "metadata": {},
   "outputs": [
    {
     "data": {
      "image/png": "[encoded data removed]",
      "text/plain": [
       "<Figure size 432x288 with 1 Axes>"
      ]
     },
     "metadata": {
      "needs_background": "light"
     },
     "output_type": "display_data"
    },
    {
     "name": "stdout",
     "output_type": "stream",
     "text": [
      "-0.09394871807783216\n"
     ]
    },
    {
     "data": {
      "image/png": "[encoded data removed]",
      "text/plain": [
       "<Figure size 432x288 with 1 Axes>"
      ]
     },
     "metadata": {
      "needs_background": "light"
     },
     "output_type": "display_data"
    }
   ],
   "source": [
    "tmp = pd.DataFrame(reg_results['beta_30_lag'])['r2_oos'].loc['1975-01-01':]\n",
    "sns.histplot(tmp)\n",
    "plt.show()\n",
    "tmp.ewm(36,min_periods=36).mean().plot(legend=True)\n",
    "print(tmp.mean())"
   ]
  },
  {
   "cell_type": "code",
   "execution_count": null,
   "metadata": {},
   "outputs": [],
   "source": []
  },
  {
   "cell_type": "markdown",
   "metadata": {},
   "source": [
    "## Output Full Dataset of Expected Returns"
   ]
  },
  {
   "cell_type": "code",
   "execution_count": 13,
   "metadata": {},
   "outputs": [],
   "source": [
    "df_output = df[df.index.get_level_values('date') >= initial_date]"
   ]
  },
  {
   "cell_type": "code",
   "execution_count": 14,
   "metadata": {},
   "outputs": [
    {
     "name": "stderr",
     "output_type": "stream",
     "text": [
      "627it [02:37,  3.99it/s]\n"
     ]
    }
   ],
   "source": [
    "reg_results = dict(zip(['beta_5_lag','beta_10_lag','beta_20_lag','beta_30_lag'],[[] for i in range(4)]))\n",
    "\n",
    "for i,date in tqdm(enumerate(df_output.index.get_level_values('date').unique())):\n",
    "    X = df_output.loc[date,['beta_5_lag','beta_10_lag','beta_20_lag','beta_30_lag']].dropna()\n",
    "    y = df_output.loc[date,'spec_ret'].dropna()\n",
    "    # X,y = X.align(y,join='inner',axis=0)\n",
    "    for col in ['beta_5_lag','beta_10_lag','beta_20_lag','beta_30_lag']:\n",
    "        cur_X = X[[col]]\n",
    "        cur_X = cur_X.clip(-5,6)\n",
    "        cur_X= shrink_beta(cur_X)\n",
    "        # cur_X = sigmoid_beta(cur_X)\n",
    "        # cur_X= z_score(cur_X,clip=None,iqr=False)\n",
    "        # cur_X = cur_X.rank(axis=0,numeric_only=True,pct=True,ascending=True)\n",
    "\n",
    "        cur_X,cur_y = cur_X.align(y,join='inner',axis=0)\n",
    "        # cur_y=y\n",
    "\n",
    "\n",
    "        # res = sm.OLS(cur_y,sm.add_constant(cur_X)).fit()\n",
    "        res = sm.RLM(cur_y,sm.add_constant(cur_X), M=sm.robust.norms.HuberT()).fit(scale_est=sm.robust.scale.HuberScale())\n",
    "        y_pred = res.predict(sm.add_constant(cur_X))\n",
    "        # display(res.summary())\n",
    "        res_ser = pd.Series({\n",
    "            \"const\": res.params.const,\n",
    "            \"coef\": res.params[col],\n",
    "            \"t_stat\": res.tvalues[col],\n",
    "            # \"r2\": res.rsquared\n",
    "            \"r2\": 1 - np.var(cur_y-y_pred)/np.var(cur_y)\n",
    "        },name=date)\n",
    "        reg_results[col].append(res_ser)"
   ]
  },
  {
   "cell_type": "code",
   "execution_count": 15,
   "metadata": {},
   "outputs": [
    {
     "data": {
      "text/html": [
       "<div>\n",
       "<style scoped>\n",
       "    .dataframe tbody tr th:only-of-type {\n",
       "        vertical-align: middle;\n",
       "    }\n",
       "\n",
       "    .dataframe tbody tr th {\n",
       "        vertical-align: top;\n",
       "    }\n",
       "\n",
       "    .dataframe thead th {\n",
       "        text-align: right;\n",
       "    }\n",
       "</style>\n",
       "<table border=\"1\" class=\"dataframe\">\n",
       "  <thead>\n",
       "    <tr style=\"text-align: right;\">\n",
       "      <th></th>\n",
       "      <th>beta_5_lag_coef</th>\n",
       "      <th>beta_10_lag_coef</th>\n",
       "      <th>beta_20_lag_coef</th>\n",
       "      <th>beta_30_lag_coef</th>\n",
       "    </tr>\n",
       "  </thead>\n",
       "  <tbody>\n",
       "    <tr>\n",
       "      <th>1970-01-30</th>\n",
       "      <td>0.015118</td>\n",
       "      <td>-0.007891</td>\n",
       "      <td>-0.031203</td>\n",
       "      <td>-0.039983</td>\n",
       "    </tr>\n",
       "    <tr>\n",
       "      <th>1970-02-27</th>\n",
       "      <td>-0.038848</td>\n",
       "      <td>-0.059028</td>\n",
       "      <td>-0.067640</td>\n",
       "      <td>-0.067659</td>\n",
       "    </tr>\n",
       "    <tr>\n",
       "      <th>1970-03-31</th>\n",
       "      <td>-0.014765</td>\n",
       "      <td>-0.069635</td>\n",
       "      <td>-0.101654</td>\n",
       "      <td>-0.102620</td>\n",
       "    </tr>\n",
       "    <tr>\n",
       "      <th>1970-04-30</th>\n",
       "      <td>-0.008545</td>\n",
       "      <td>-0.097037</td>\n",
       "      <td>-0.118767</td>\n",
       "      <td>-0.114736</td>\n",
       "    </tr>\n",
       "    <tr>\n",
       "      <th>1970-05-29</th>\n",
       "      <td>0.004108</td>\n",
       "      <td>-0.057681</td>\n",
       "      <td>-0.071239</td>\n",
       "      <td>-0.068094</td>\n",
       "    </tr>\n",
       "    <tr>\n",
       "      <th>...</th>\n",
       "      <td>...</td>\n",
       "      <td>...</td>\n",
       "      <td>...</td>\n",
       "      <td>...</td>\n",
       "    </tr>\n",
       "    <tr>\n",
       "      <th>2021-11-30</th>\n",
       "      <td>-0.006537</td>\n",
       "      <td>-0.013813</td>\n",
       "      <td>-0.018430</td>\n",
       "      <td>-0.020742</td>\n",
       "    </tr>\n",
       "    <tr>\n",
       "      <th>2021-12-31</th>\n",
       "      <td>-0.006996</td>\n",
       "      <td>-0.014936</td>\n",
       "      <td>-0.020606</td>\n",
       "      <td>-0.022869</td>\n",
       "    </tr>\n",
       "    <tr>\n",
       "      <th>2022-01-31</th>\n",
       "      <td>-0.006843</td>\n",
       "      <td>-0.014304</td>\n",
       "      <td>-0.019282</td>\n",
       "      <td>-0.021365</td>\n",
       "    </tr>\n",
       "    <tr>\n",
       "      <th>2022-02-28</th>\n",
       "      <td>-0.006464</td>\n",
       "      <td>-0.013495</td>\n",
       "      <td>-0.017677</td>\n",
       "      <td>-0.019671</td>\n",
       "    </tr>\n",
       "    <tr>\n",
       "      <th>2022-03-31</th>\n",
       "      <td>-0.007242</td>\n",
       "      <td>-0.014500</td>\n",
       "      <td>-0.018379</td>\n",
       "      <td>-0.019978</td>\n",
       "    </tr>\n",
       "  </tbody>\n",
       "</table>\n",
       "<p>627 rows × 4 columns</p>\n",
       "</div>"
      ],
      "text/plain": [
       "            beta_5_lag_coef  beta_10_lag_coef  beta_20_lag_coef  \\\n",
       "1970-01-30         0.015118         -0.007891         -0.031203   \n",
       "1970-02-27        -0.038848         -0.059028         -0.067640   \n",
       "1970-03-31        -0.014765         -0.069635         -0.101654   \n",
       "1970-04-30        -0.008545         -0.097037         -0.118767   \n",
       "1970-05-29         0.004108         -0.057681         -0.071239   \n",
       "...                     ...               ...               ...   \n",
       "2021-11-30        -0.006537         -0.013813         -0.018430   \n",
       "2021-12-31        -0.006996         -0.014936         -0.020606   \n",
       "2022-01-31        -0.006843         -0.014304         -0.019282   \n",
       "2022-02-28        -0.006464         -0.013495         -0.017677   \n",
       "2022-03-31        -0.007242         -0.014500         -0.018379   \n",
       "\n",
       "            beta_30_lag_coef  \n",
       "1970-01-30         -0.039983  \n",
       "1970-02-27         -0.067659  \n",
       "1970-03-31         -0.102620  \n",
       "1970-04-30         -0.114736  \n",
       "1970-05-29         -0.068094  \n",
       "...                      ...  \n",
       "2021-11-30         -0.020742  \n",
       "2021-12-31         -0.022869  \n",
       "2022-01-31         -0.021365  \n",
       "2022-02-28         -0.019671  \n",
       "2022-03-31         -0.019978  \n",
       "\n",
       "[627 rows x 4 columns]"
      ]
     },
     "execution_count": 15,
     "metadata": {},
     "output_type": "execute_result"
    }
   ],
   "source": [
    "lst,lst2 = [],[]\n",
    "for col in ['beta_5_lag','beta_10_lag','beta_20_lag','beta_30_lag']:\n",
    "    lst.append(pd.DataFrame(reg_results[col])['coef'].ewm(36).mean().rename(col+\"_coef\"))\n",
    "    lst2.append(pd.DataFrame(reg_results[col])['const'].ewm(36).mean().rename(col+\"_const\"))\n",
    "coef_df = pd.concat(lst,axis=1)\n",
    "const_df = pd.concat(lst2,axis=1)\n",
    "\n",
    "coef_df"
   ]
  },
  {
   "cell_type": "code",
   "execution_count": 16,
   "metadata": {},
   "outputs": [
    {
     "name": "stdout",
     "output_type": "stream",
     "text": [
      "-0.012120403480796104\n"
     ]
    },
    {
     "data": {
      "image/png": "[encoded data removed]",
      "text/plain": [
       "<Figure size 432x288 with 1 Axes>"
      ]
     },
     "metadata": {
      "needs_background": "light"
     },
     "output_type": "display_data"
    }
   ],
   "source": [
    "coef_df['beta_30_lag_coef'].loc['1980-01-01':].plot()\n",
    "print(coef_df['beta_30_lag_coef'].loc['1980-01-01':].mean())"
   ]
  },
  {
   "cell_type": "code",
   "execution_count": 17,
   "metadata": {},
   "outputs": [
    {
     "data": {
      "text/plain": [
       "<AxesSubplot:>"
      ]
     },
     "execution_count": 17,
     "metadata": {},
     "output_type": "execute_result"
    },
    {
     "data": {
      "image/png": "[encoded data removed]",
      "text/plain": [
       "<Figure size 432x288 with 1 Axes>"
      ]
     },
     "metadata": {
      "needs_background": "light"
     },
     "output_type": "display_data"
    }
   ],
   "source": [
    "const_df['beta_30_lag_const'].loc['1980-01-01':].plot()"
   ]
  },
  {
   "cell_type": "code",
   "execution_count": 18,
   "metadata": {},
   "outputs": [
    {
     "name": "stderr",
     "output_type": "stream",
     "text": [
      "627it [00:41, 14.94it/s]\n"
     ]
    },
    {
     "data": {
      "text/html": [
       "<div>\n",
       "<style scoped>\n",
       "    .dataframe tbody tr th:only-of-type {\n",
       "        vertical-align: middle;\n",
       "    }\n",
       "\n",
       "    .dataframe tbody tr th {\n",
       "        vertical-align: top;\n",
       "    }\n",
       "\n",
       "    .dataframe thead th {\n",
       "        text-align: right;\n",
       "    }\n",
       "</style>\n",
       "<table border=\"1\" class=\"dataframe\">\n",
       "  <thead>\n",
       "    <tr style=\"text-align: right;\">\n",
       "      <th></th>\n",
       "      <th></th>\n",
       "      <th>beta_5_exalpha</th>\n",
       "      <th>beta_10_exalpha</th>\n",
       "      <th>beta_20_exalpha</th>\n",
       "      <th>beta_30_exalpha</th>\n",
       "    </tr>\n",
       "    <tr>\n",
       "      <th>date</th>\n",
       "      <th>permno</th>\n",
       "      <th></th>\n",
       "      <th></th>\n",
       "      <th></th>\n",
       "      <th></th>\n",
       "    </tr>\n",
       "  </thead>\n",
       "  <tbody>\n",
       "    <tr>\n",
       "      <th rowspan=\"5\" valign=\"top\">1970-01-30</th>\n",
       "      <th>10006</th>\n",
       "      <td>-0.055009</td>\n",
       "      <td>-0.054219</td>\n",
       "      <td>-0.052623</td>\n",
       "      <td>-0.052349</td>\n",
       "    </tr>\n",
       "    <tr>\n",
       "      <th>10014</th>\n",
       "      <td>-0.093065</td>\n",
       "      <td>-0.044422</td>\n",
       "      <td>-0.039772</td>\n",
       "      <td>-0.045330</td>\n",
       "    </tr>\n",
       "    <tr>\n",
       "      <th>10057</th>\n",
       "      <td>-0.059727</td>\n",
       "      <td>-0.052313</td>\n",
       "      <td>-0.048019</td>\n",
       "      <td>-0.048111</td>\n",
       "    </tr>\n",
       "    <tr>\n",
       "      <th>10065</th>\n",
       "      <td>-0.050130</td>\n",
       "      <td>-0.055703</td>\n",
       "      <td>-0.055759</td>\n",
       "      <td>-0.054959</td>\n",
       "    </tr>\n",
       "    <tr>\n",
       "      <th>10102</th>\n",
       "      <td>-0.059885</td>\n",
       "      <td>-0.053447</td>\n",
       "      <td>-0.052907</td>\n",
       "      <td>-0.053779</td>\n",
       "    </tr>\n",
       "    <tr>\n",
       "      <th>...</th>\n",
       "      <th>...</th>\n",
       "      <td>...</td>\n",
       "      <td>...</td>\n",
       "      <td>...</td>\n",
       "      <td>...</td>\n",
       "    </tr>\n",
       "    <tr>\n",
       "      <th rowspan=\"5\" valign=\"top\">2022-03-31</th>\n",
       "      <th>93426</th>\n",
       "      <td>-0.002323</td>\n",
       "      <td>-0.002702</td>\n",
       "      <td>-0.002582</td>\n",
       "      <td>-0.002170</td>\n",
       "    </tr>\n",
       "    <tr>\n",
       "      <th>93427</th>\n",
       "      <td>-0.001088</td>\n",
       "      <td>0.003573</td>\n",
       "      <td>0.002996</td>\n",
       "      <td>0.002348</td>\n",
       "    </tr>\n",
       "    <tr>\n",
       "      <th>93429</th>\n",
       "      <td>0.002381</td>\n",
       "      <td>0.001523</td>\n",
       "      <td>0.001074</td>\n",
       "      <td>0.001442</td>\n",
       "    </tr>\n",
       "    <tr>\n",
       "      <th>93434</th>\n",
       "      <td>-0.008981</td>\n",
       "      <td>-0.023385</td>\n",
       "      <td>-0.008058</td>\n",
       "      <td>-0.003283</td>\n",
       "    </tr>\n",
       "    <tr>\n",
       "      <th>93436</th>\n",
       "      <td>-0.019982</td>\n",
       "      <td>-0.027394</td>\n",
       "      <td>-0.015904</td>\n",
       "      <td>-0.012857</td>\n",
       "    </tr>\n",
       "  </tbody>\n",
       "</table>\n",
       "<p>4049541 rows × 4 columns</p>\n",
       "</div>"
      ],
      "text/plain": [
       "                   beta_5_exalpha  beta_10_exalpha  beta_20_exalpha  \\\n",
       "date       permno                                                     \n",
       "1970-01-30 10006        -0.055009        -0.054219        -0.052623   \n",
       "           10014        -0.093065        -0.044422        -0.039772   \n",
       "           10057        -0.059727        -0.052313        -0.048019   \n",
       "           10065        -0.050130        -0.055703        -0.055759   \n",
       "           10102        -0.059885        -0.053447        -0.052907   \n",
       "...                           ...              ...              ...   \n",
       "2022-03-31 93426        -0.002323        -0.002702        -0.002582   \n",
       "           93427        -0.001088         0.003573         0.002996   \n",
       "           93429         0.002381         0.001523         0.001074   \n",
       "           93434        -0.008981        -0.023385        -0.008058   \n",
       "           93436        -0.019982        -0.027394        -0.015904   \n",
       "\n",
       "                   beta_30_exalpha  \n",
       "date       permno                   \n",
       "1970-01-30 10006         -0.052349  \n",
       "           10014         -0.045330  \n",
       "           10057         -0.048111  \n",
       "           10065         -0.054959  \n",
       "           10102         -0.053779  \n",
       "...                            ...  \n",
       "2022-03-31 93426         -0.002170  \n",
       "           93427          0.002348  \n",
       "           93429          0.001442  \n",
       "           93434         -0.003283  \n",
       "           93436         -0.012857  \n",
       "\n",
       "[4049541 rows x 4 columns]"
      ]
     },
     "execution_count": 18,
     "metadata": {},
     "output_type": "execute_result"
    }
   ],
   "source": [
    "ex_returns_lst = []\n",
    "for i,date in tqdm(enumerate(df_output.index.get_level_values('date').unique())):\n",
    "    X = df_output.loc[date,['beta_5','beta_10','beta_20','beta_30']].dropna()\n",
    "    coef = coef_df.loc[date]\n",
    "    const = const_df.loc[date]\n",
    "    concat_lst = []\n",
    "    for col in ['beta_5','beta_10','beta_20','beta_30']:\n",
    "        concat_lst.append((X[col]*coef[col+\"_lag_coef\"] + const[col+\"_lag_const\"]).rename(col+\"_exalpha\"))\n",
    "    ex_returns = pd.concat(concat_lst,axis=1)\n",
    "    ex_returns['date'] = date\n",
    "    ex_returns = ex_returns.set_index('date',append=True).reorder_levels([1,0])\n",
    "    ex_returns_lst.append(ex_returns)\n",
    "ex_returns_df = pd.concat(ex_returns_lst,axis=0)\n",
    "ex_returns_df"
   ]
  },
  {
   "cell_type": "code",
   "execution_count": 19,
   "metadata": {},
   "outputs": [
    {
     "data": {
      "text/plain": [
       "date        permno\n",
       "1970-01-30  10006    -0.052349\n",
       "            10014    -0.045330\n",
       "            10057    -0.048111\n",
       "            10065    -0.054959\n",
       "            10102    -0.053779\n",
       "                        ...   \n",
       "2022-03-31  93426    -0.002170\n",
       "            93427     0.002348\n",
       "            93429     0.001442\n",
       "            93434    -0.003283\n",
       "            93436    -0.012857\n",
       "Name: beta_30_exalpha, Length: 4049541, dtype: float64"
      ]
     },
     "execution_count": 19,
     "metadata": {},
     "output_type": "execute_result"
    }
   ],
   "source": [
    "ex_returns_df_traded_dt = ex_returns_df['beta_30_exalpha']#.unstack().shift(1).stack()\n",
    "ex_returns_df_traded_dt"
   ]
  },
  {
   "cell_type": "code",
   "execution_count": 20,
   "metadata": {},
   "outputs": [],
   "source": [
    "#ex_returns_df_traded_dt.to_pickle('data/exalpha_beta_30.pkl')"
   ]
  },
  {
   "cell_type": "code",
   "execution_count": null,
   "metadata": {},
   "outputs": [],
   "source": []
  }
 ],
 "metadata": {
  "kernelspec": {
   "display_name": "Python 3 (ipykernel)",
   "language": "python",
   "name": "python3"
  },
  "language_info": {
   "codemirror_mode": {
    "name": "ipython",
    "version": 3
   },
   "file_extension": ".py",
   "mimetype": "text/x-python",
   "name": "python",
   "nbconvert_exporter": "python",
   "pygments_lexer": "ipython3",
   "version": "3.9.13"
  },
  "vscode": {
   "interpreter": {
    "hash": "1c86fc23e90278249ed49daa329e483b66468353848fcaf9d04aaaedc6017077"
   }
  }
 },
 "nbformat": 4,
 "nbformat_minor": 2
}

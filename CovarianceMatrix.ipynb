{
 "cells": [
  {
   "cell_type": "code",
   "execution_count": 1,
   "metadata": {},
   "outputs": [],
   "source": [
    "import pandas as pd\n",
    "import numpy as np\n",
    "from matplotlib import pyplot as plt\n",
    "import seaborn as sns\n",
    "from tqdm.auto import tqdm"
   ]
  },
  {
   "cell_type": "code",
   "execution_count": 2,
   "metadata": {},
   "outputs": [],
   "source": [
    "ff_factors = pd.read_csv('data/F-F_Research_Data_Factors_Monthly.csv',index_col=0)\n",
    "ff_factors.index = pd.to_datetime(ff_factors.index)\n",
    "ff_cov_df = ff_factors.ewm(halflife=36,min_periods=36).cov()\n",
    "ff_cov_df.to_pickle(f'data/ff_cov_halflife{36}.pkl',protocol=4)"
   ]
  },
  {
   "cell_type": "code",
   "execution_count": 3,
   "metadata": {},
   "outputs": [],
   "source": [
    "spec_df = pd.read_pickle('data/specific_returns_halflife36_TOP2000.pkl')\n",
    "spec_est = spec_df.ewm(halflife=36,min_periods=36).var()[spec_df.notna()]\n",
    "spec_est = spec_est.stack()\n",
    "spec_est.to_pickle(f'data/spec_est_halflife{36}_TOP{2000}.pkl',protocol=4)\n"
   ]
  },
  {
   "cell_type": "markdown",
   "metadata": {},
   "source": [
    "Function to compute risk model covariance matrix"
   ]
  },
  {
   "cell_type": "code",
   "execution_count": 4,
   "metadata": {},
   "outputs": [],
   "source": [
    "universe = pd.read_csv(f'data/TOP2000_universe.csv',parse_dates=[0],index_col=0)\n",
    "ff_loadings = pd.read_pickle('data/ffloadings_halflife36_TOP2000.pkl')\n",
    "ff_cov_df = pd.read_pickle(f'data/ff_cov_halflife{36}.pkl')\n",
    "spec_est = pd.read_pickle(f'data/spec_est_halflife{36}_TOP{2000}.pkl')\n",
    "\n",
    "def risk_cov(date):\n",
    "    ff_cols = ['Mkt-RF','HML','SMB']\n",
    "    betas = ff_loadings.loc[date,(universe.loc[date],slice(None))].unstack()[ff_cols].dropna(axis=0)\n",
    "    ff_cov = ff_cov_df.loc[date].loc[ff_cols,ff_cols]\n",
    "    spec_cov = spec_est.loc[date]\n",
    "    \n",
    "    idx = spec_cov.index.intersection(betas.index)\n",
    "    spec_cov = spec_cov.reindex(idx)\n",
    "    betas = betas.reindex(idx)\n",
    "\n",
    "    cov = betas@ff_cov@betas.T + np.diag(spec_cov)\n",
    "    return cov"
   ]
  },
  {
   "cell_type": "code",
   "execution_count": 5,
   "metadata": {},
   "outputs": [
    {
     "data": {
      "text/html": [
       "<div>\n",
       "<style scoped>\n",
       "    .dataframe tbody tr th:only-of-type {\n",
       "        vertical-align: middle;\n",
       "    }\n",
       "\n",
       "    .dataframe tbody tr th {\n",
       "        vertical-align: top;\n",
       "    }\n",
       "\n",
       "    .dataframe thead th {\n",
       "        text-align: right;\n",
       "    }\n",
       "</style>\n",
       "<table border=\"1\" class=\"dataframe\">\n",
       "  <thead>\n",
       "    <tr style=\"text-align: right;\">\n",
       "      <th>permno</th>\n",
       "      <th>10060</th>\n",
       "      <th>10065</th>\n",
       "      <th>10071</th>\n",
       "      <th>10078</th>\n",
       "      <th>10104</th>\n",
       "      <th>10107</th>\n",
       "      <th>10108</th>\n",
       "      <th>10114</th>\n",
       "      <th>10119</th>\n",
       "      <th>10126</th>\n",
       "      <th>...</th>\n",
       "      <th>89712</th>\n",
       "      <th>89982</th>\n",
       "      <th>90100</th>\n",
       "      <th>90369</th>\n",
       "      <th>90537</th>\n",
       "      <th>90609</th>\n",
       "      <th>90879</th>\n",
       "      <th>91380</th>\n",
       "      <th>92284</th>\n",
       "      <th>92655</th>\n",
       "    </tr>\n",
       "    <tr>\n",
       "      <th>permno</th>\n",
       "      <th></th>\n",
       "      <th></th>\n",
       "      <th></th>\n",
       "      <th></th>\n",
       "      <th></th>\n",
       "      <th></th>\n",
       "      <th></th>\n",
       "      <th></th>\n",
       "      <th></th>\n",
       "      <th></th>\n",
       "      <th></th>\n",
       "      <th></th>\n",
       "      <th></th>\n",
       "      <th></th>\n",
       "      <th></th>\n",
       "      <th></th>\n",
       "      <th></th>\n",
       "      <th></th>\n",
       "      <th></th>\n",
       "      <th></th>\n",
       "      <th></th>\n",
       "    </tr>\n",
       "  </thead>\n",
       "  <tbody>\n",
       "    <tr>\n",
       "      <th>10060</th>\n",
       "      <td>0.019621</td>\n",
       "      <td>-0.000337</td>\n",
       "      <td>-0.000716</td>\n",
       "      <td>-0.000003</td>\n",
       "      <td>0.000444</td>\n",
       "      <td>-0.000587</td>\n",
       "      <td>0.000520</td>\n",
       "      <td>0.000459</td>\n",
       "      <td>-0.000658</td>\n",
       "      <td>-0.000196</td>\n",
       "      <td>...</td>\n",
       "      <td>0.000714</td>\n",
       "      <td>-0.000299</td>\n",
       "      <td>-0.000286</td>\n",
       "      <td>-0.000748</td>\n",
       "      <td>0.000302</td>\n",
       "      <td>-0.001066</td>\n",
       "      <td>-0.000698</td>\n",
       "      <td>-0.000494</td>\n",
       "      <td>-0.000124</td>\n",
       "      <td>-0.000549</td>\n",
       "    </tr>\n",
       "    <tr>\n",
       "      <th>10065</th>\n",
       "      <td>-0.000337</td>\n",
       "      <td>0.001285</td>\n",
       "      <td>0.002246</td>\n",
       "      <td>0.001251</td>\n",
       "      <td>0.001640</td>\n",
       "      <td>0.001151</td>\n",
       "      <td>0.000648</td>\n",
       "      <td>0.002182</td>\n",
       "      <td>0.001450</td>\n",
       "      <td>0.000549</td>\n",
       "      <td>...</td>\n",
       "      <td>0.000504</td>\n",
       "      <td>0.000443</td>\n",
       "      <td>0.000924</td>\n",
       "      <td>0.001205</td>\n",
       "      <td>0.000269</td>\n",
       "      <td>0.001546</td>\n",
       "      <td>0.002397</td>\n",
       "      <td>0.001566</td>\n",
       "      <td>0.002011</td>\n",
       "      <td>0.001561</td>\n",
       "    </tr>\n",
       "    <tr>\n",
       "      <th>10071</th>\n",
       "      <td>-0.000716</td>\n",
       "      <td>0.002246</td>\n",
       "      <td>0.016852</td>\n",
       "      <td>0.006455</td>\n",
       "      <td>0.007883</td>\n",
       "      <td>0.005320</td>\n",
       "      <td>0.003334</td>\n",
       "      <td>0.010766</td>\n",
       "      <td>0.005745</td>\n",
       "      <td>0.002054</td>\n",
       "      <td>...</td>\n",
       "      <td>0.002758</td>\n",
       "      <td>0.001737</td>\n",
       "      <td>0.003710</td>\n",
       "      <td>0.004808</td>\n",
       "      <td>0.001447</td>\n",
       "      <td>0.006742</td>\n",
       "      <td>0.011091</td>\n",
       "      <td>0.007181</td>\n",
       "      <td>0.008970</td>\n",
       "      <td>0.007209</td>\n",
       "    </tr>\n",
       "    <tr>\n",
       "      <th>10078</th>\n",
       "      <td>-0.000003</td>\n",
       "      <td>0.001251</td>\n",
       "      <td>0.006455</td>\n",
       "      <td>0.015518</td>\n",
       "      <td>0.005420</td>\n",
       "      <td>0.003899</td>\n",
       "      <td>0.002352</td>\n",
       "      <td>0.007784</td>\n",
       "      <td>0.003143</td>\n",
       "      <td>0.000942</td>\n",
       "      <td>...</td>\n",
       "      <td>0.001961</td>\n",
       "      <td>0.000982</td>\n",
       "      <td>0.002021</td>\n",
       "      <td>0.002783</td>\n",
       "      <td>0.001044</td>\n",
       "      <td>0.004661</td>\n",
       "      <td>0.007862</td>\n",
       "      <td>0.005041</td>\n",
       "      <td>0.005749</td>\n",
       "      <td>0.005146</td>\n",
       "    </tr>\n",
       "    <tr>\n",
       "      <th>10104</th>\n",
       "      <td>0.000444</td>\n",
       "      <td>0.001640</td>\n",
       "      <td>0.007883</td>\n",
       "      <td>0.005420</td>\n",
       "      <td>0.020484</td>\n",
       "      <td>0.003747</td>\n",
       "      <td>0.003721</td>\n",
       "      <td>0.010097</td>\n",
       "      <td>0.004531</td>\n",
       "      <td>0.001767</td>\n",
       "      <td>...</td>\n",
       "      <td>0.003494</td>\n",
       "      <td>0.001205</td>\n",
       "      <td>0.003139</td>\n",
       "      <td>0.003422</td>\n",
       "      <td>0.001717</td>\n",
       "      <td>0.004403</td>\n",
       "      <td>0.008729</td>\n",
       "      <td>0.005613</td>\n",
       "      <td>0.008014</td>\n",
       "      <td>0.005512</td>\n",
       "    </tr>\n",
       "    <tr>\n",
       "      <th>...</th>\n",
       "      <td>...</td>\n",
       "      <td>...</td>\n",
       "      <td>...</td>\n",
       "      <td>...</td>\n",
       "      <td>...</td>\n",
       "      <td>...</td>\n",
       "      <td>...</td>\n",
       "      <td>...</td>\n",
       "      <td>...</td>\n",
       "      <td>...</td>\n",
       "      <td>...</td>\n",
       "      <td>...</td>\n",
       "      <td>...</td>\n",
       "      <td>...</td>\n",
       "      <td>...</td>\n",
       "      <td>...</td>\n",
       "      <td>...</td>\n",
       "      <td>...</td>\n",
       "      <td>...</td>\n",
       "      <td>...</td>\n",
       "      <td>...</td>\n",
       "    </tr>\n",
       "    <tr>\n",
       "      <th>90609</th>\n",
       "      <td>-0.001066</td>\n",
       "      <td>0.001546</td>\n",
       "      <td>0.006742</td>\n",
       "      <td>0.004661</td>\n",
       "      <td>0.004403</td>\n",
       "      <td>0.004259</td>\n",
       "      <td>0.001516</td>\n",
       "      <td>0.006538</td>\n",
       "      <td>0.003655</td>\n",
       "      <td>0.001094</td>\n",
       "      <td>...</td>\n",
       "      <td>0.000927</td>\n",
       "      <td>0.001255</td>\n",
       "      <td>0.002185</td>\n",
       "      <td>0.003436</td>\n",
       "      <td>0.000587</td>\n",
       "      <td>0.019014</td>\n",
       "      <td>0.008002</td>\n",
       "      <td>0.005186</td>\n",
       "      <td>0.005386</td>\n",
       "      <td>0.005349</td>\n",
       "    </tr>\n",
       "    <tr>\n",
       "      <th>90879</th>\n",
       "      <td>-0.000698</td>\n",
       "      <td>0.002397</td>\n",
       "      <td>0.011091</td>\n",
       "      <td>0.007862</td>\n",
       "      <td>0.008729</td>\n",
       "      <td>0.006415</td>\n",
       "      <td>0.003625</td>\n",
       "      <td>0.012304</td>\n",
       "      <td>0.006011</td>\n",
       "      <td>0.001978</td>\n",
       "      <td>...</td>\n",
       "      <td>0.002911</td>\n",
       "      <td>0.001881</td>\n",
       "      <td>0.003825</td>\n",
       "      <td>0.005233</td>\n",
       "      <td>0.001566</td>\n",
       "      <td>0.008002</td>\n",
       "      <td>0.032785</td>\n",
       "      <td>0.008361</td>\n",
       "      <td>0.009793</td>\n",
       "      <td>0.008486</td>\n",
       "    </tr>\n",
       "    <tr>\n",
       "      <th>91380</th>\n",
       "      <td>-0.000494</td>\n",
       "      <td>0.001566</td>\n",
       "      <td>0.007181</td>\n",
       "      <td>0.005041</td>\n",
       "      <td>0.005613</td>\n",
       "      <td>0.004142</td>\n",
       "      <td>0.002319</td>\n",
       "      <td>0.007901</td>\n",
       "      <td>0.003924</td>\n",
       "      <td>0.001298</td>\n",
       "      <td>...</td>\n",
       "      <td>0.001854</td>\n",
       "      <td>0.001229</td>\n",
       "      <td>0.002494</td>\n",
       "      <td>0.003414</td>\n",
       "      <td>0.000999</td>\n",
       "      <td>0.005186</td>\n",
       "      <td>0.008361</td>\n",
       "      <td>0.015294</td>\n",
       "      <td>0.006331</td>\n",
       "      <td>0.005477</td>\n",
       "    </tr>\n",
       "    <tr>\n",
       "      <th>92284</th>\n",
       "      <td>-0.000124</td>\n",
       "      <td>0.002011</td>\n",
       "      <td>0.008970</td>\n",
       "      <td>0.005749</td>\n",
       "      <td>0.008014</td>\n",
       "      <td>0.004360</td>\n",
       "      <td>0.003684</td>\n",
       "      <td>0.010545</td>\n",
       "      <td>0.005388</td>\n",
       "      <td>0.002085</td>\n",
       "      <td>...</td>\n",
       "      <td>0.003321</td>\n",
       "      <td>0.001508</td>\n",
       "      <td>0.003625</td>\n",
       "      <td>0.004210</td>\n",
       "      <td>0.001660</td>\n",
       "      <td>0.005386</td>\n",
       "      <td>0.009793</td>\n",
       "      <td>0.006331</td>\n",
       "      <td>0.024466</td>\n",
       "      <td>0.006245</td>\n",
       "    </tr>\n",
       "    <tr>\n",
       "      <th>92655</th>\n",
       "      <td>-0.000549</td>\n",
       "      <td>0.001561</td>\n",
       "      <td>0.007209</td>\n",
       "      <td>0.005146</td>\n",
       "      <td>0.005512</td>\n",
       "      <td>0.004269</td>\n",
       "      <td>0.002231</td>\n",
       "      <td>0.007860</td>\n",
       "      <td>0.003866</td>\n",
       "      <td>0.001237</td>\n",
       "      <td>...</td>\n",
       "      <td>0.001736</td>\n",
       "      <td>0.001234</td>\n",
       "      <td>0.002431</td>\n",
       "      <td>0.003428</td>\n",
       "      <td>0.000952</td>\n",
       "      <td>0.005349</td>\n",
       "      <td>0.008486</td>\n",
       "      <td>0.005477</td>\n",
       "      <td>0.006245</td>\n",
       "      <td>0.013646</td>\n",
       "    </tr>\n",
       "  </tbody>\n",
       "</table>\n",
       "<p>1493 rows × 1493 columns</p>\n",
       "</div>"
      ],
      "text/plain": [
       "permno     10060     10065     10071     10078     10104     10107     10108  \\\n",
       "permno                                                                         \n",
       "10060   0.019621 -0.000337 -0.000716 -0.000003  0.000444 -0.000587  0.000520   \n",
       "10065  -0.000337  0.001285  0.002246  0.001251  0.001640  0.001151  0.000648   \n",
       "10071  -0.000716  0.002246  0.016852  0.006455  0.007883  0.005320  0.003334   \n",
       "10078  -0.000003  0.001251  0.006455  0.015518  0.005420  0.003899  0.002352   \n",
       "10104   0.000444  0.001640  0.007883  0.005420  0.020484  0.003747  0.003721   \n",
       "...          ...       ...       ...       ...       ...       ...       ...   \n",
       "90609  -0.001066  0.001546  0.006742  0.004661  0.004403  0.004259  0.001516   \n",
       "90879  -0.000698  0.002397  0.011091  0.007862  0.008729  0.006415  0.003625   \n",
       "91380  -0.000494  0.001566  0.007181  0.005041  0.005613  0.004142  0.002319   \n",
       "92284  -0.000124  0.002011  0.008970  0.005749  0.008014  0.004360  0.003684   \n",
       "92655  -0.000549  0.001561  0.007209  0.005146  0.005512  0.004269  0.002231   \n",
       "\n",
       "permno     10114     10119     10126  ...     89712     89982     90100  \\\n",
       "permno                                ...                                 \n",
       "10060   0.000459 -0.000658 -0.000196  ...  0.000714 -0.000299 -0.000286   \n",
       "10065   0.002182  0.001450  0.000549  ...  0.000504  0.000443  0.000924   \n",
       "10071   0.010766  0.005745  0.002054  ...  0.002758  0.001737  0.003710   \n",
       "10078   0.007784  0.003143  0.000942  ...  0.001961  0.000982  0.002021   \n",
       "10104   0.010097  0.004531  0.001767  ...  0.003494  0.001205  0.003139   \n",
       "...          ...       ...       ...  ...       ...       ...       ...   \n",
       "90609   0.006538  0.003655  0.001094  ...  0.000927  0.001255  0.002185   \n",
       "90879   0.012304  0.006011  0.001978  ...  0.002911  0.001881  0.003825   \n",
       "91380   0.007901  0.003924  0.001298  ...  0.001854  0.001229  0.002494   \n",
       "92284   0.010545  0.005388  0.002085  ...  0.003321  0.001508  0.003625   \n",
       "92655   0.007860  0.003866  0.001237  ...  0.001736  0.001234  0.002431   \n",
       "\n",
       "permno     90369     90537     90609     90879     91380     92284     92655  \n",
       "permno                                                                        \n",
       "10060  -0.000748  0.000302 -0.001066 -0.000698 -0.000494 -0.000124 -0.000549  \n",
       "10065   0.001205  0.000269  0.001546  0.002397  0.001566  0.002011  0.001561  \n",
       "10071   0.004808  0.001447  0.006742  0.011091  0.007181  0.008970  0.007209  \n",
       "10078   0.002783  0.001044  0.004661  0.007862  0.005041  0.005749  0.005146  \n",
       "10104   0.003422  0.001717  0.004403  0.008729  0.005613  0.008014  0.005512  \n",
       "...          ...       ...       ...       ...       ...       ...       ...  \n",
       "90609   0.003436  0.000587  0.019014  0.008002  0.005186  0.005386  0.005349  \n",
       "90879   0.005233  0.001566  0.008002  0.032785  0.008361  0.009793  0.008486  \n",
       "91380   0.003414  0.000999  0.005186  0.008361  0.015294  0.006331  0.005477  \n",
       "92284   0.004210  0.001660  0.005386  0.009793  0.006331  0.024466  0.006245  \n",
       "92655   0.003428  0.000952  0.005349  0.008486  0.005477  0.006245  0.013646  \n",
       "\n",
       "[1493 rows x 1493 columns]"
      ]
     },
     "execution_count": 5,
     "metadata": {},
     "output_type": "execute_result"
    }
   ],
   "source": [
    "risk_cov(ff_loadings.index[300])"
   ]
  },
  {
   "cell_type": "code",
   "execution_count": 6,
   "metadata": {},
   "outputs": [
    {
     "data": {
      "text/plain": [
       "True"
      ]
     },
     "execution_count": 6,
     "metadata": {},
     "output_type": "execute_result"
    }
   ],
   "source": [
    "all(np.linalg.eig(risk_cov(ff_loadings.index[100]))[0] > 0)"
   ]
  },
  {
   "cell_type": "code",
   "execution_count": null,
   "metadata": {},
   "outputs": [],
   "source": []
  },
  {
   "cell_type": "markdown",
   "metadata": {},
   "source": [
    "Risk Model R2"
   ]
  },
  {
   "cell_type": "code",
   "execution_count": 7,
   "metadata": {},
   "outputs": [],
   "source": [
    "spec_df = pd.read_pickle('data/specific_returns_halflife36_TOP2000.pkl').stack()\n",
    "spec_df.index = spec_df.index.set_names('date',level=0)\n",
    "sys_df = pd.read_pickle('data/systematic_returns_halflife36_TOP2000.pkl').stack()\n",
    "sys_df.index = sys_df.index.set_names('date',level=0)\n",
    "spec_df,sys_df = spec_df.align(sys_df,join='inner')\n",
    "\n",
    "ret_df = spec_df + sys_df\n",
    "\n",
    "\n"
   ]
  },
  {
   "cell_type": "code",
   "execution_count": 8,
   "metadata": {},
   "outputs": [
    {
     "data": {
      "text/plain": [
       "<AxesSubplot:ylabel='Count'>"
      ]
     },
     "execution_count": 8,
     "metadata": {},
     "output_type": "execute_result"
    },
    {
     "data": {
      "image/png": "[encoded data removed]",
      "text/plain": [
       "<Figure size 432x288 with 1 Axes>"
      ]
     },
     "metadata": {
      "needs_background": "light"
     },
     "output_type": "display_data"
    }
   ],
   "source": [
    "sns.histplot(ret_df,binrange=(-0.5,0.5))"
   ]
  },
  {
   "cell_type": "code",
   "execution_count": 9,
   "metadata": {},
   "outputs": [
    {
     "data": {
      "image/png": "[encoded data removed]",
      "text/plain": [
       "<Figure size 432x288 with 1 Axes>"
      ]
     },
     "metadata": {
      "needs_background": "light"
     },
     "output_type": "display_data"
    },
    {
     "data": {
      "image/png": "[encoded data removed]",
      "text/plain": [
       "<Figure size 432x288 with 1 Axes>"
      ]
     },
     "metadata": {
      "needs_background": "light"
     },
     "output_type": "display_data"
    },
    {
     "name": "stdout",
     "output_type": "stream",
     "text": [
      "Mean R2: 0.04879196707971851\n",
      "Median R2: 0.07496424285312475\n",
      "T-test: Ttest_1sampResult(statistic=1.4815308307058181, pvalue=0.06948416988641007)\n"
     ]
    }
   ],
   "source": [
    "from scipy.stats import ttest_1samp\n",
    "\n",
    "r2_df = 1 - spec_df.clip(-0.5,0.5).groupby('date').var()/ret_df.clip(-0.5,0.5).groupby('date').var()\n",
    "r2_df.plot(ylim=(-0.5,1))\n",
    "plt.show()\n",
    "sns.histplot(r2_df,binrange=(-0.5,1))\n",
    "plt.xlabel(\"R2\")\n",
    "plt.show()\n",
    "\n",
    "print(\"Mean R2:\", r2_df.mean())\n",
    "print(\"Median R2:\", r2_df.median())\n",
    "print(\"T-test:\", ttest_1samp(r2_df,0,alternative='greater'))"
   ]
  },
  {
   "cell_type": "code",
   "execution_count": 20,
   "metadata": {},
   "outputs": [
    {
     "data": {
      "image/png": "[encoded data removed]",
      "text/plain": [
       "<Figure size 648x432 with 1 Axes>"
      ]
     },
     "metadata": {
      "needs_background": "light"
     },
     "output_type": "display_data"
    }
   ],
   "source": [
    "fig, ax = plt.subplots(1, 1, figsize=(9, 6))\n",
    "sns.histplot(r2_df,binrange=(-0.5,1), ax=ax, stat='density')\n",
    "ax.grid(ls='--', lw=1, color='gray')\n",
    "sns.kdeplot(r2_df, color='red', ax=ax)\n",
    "ax.set_xlim((-0.5, 1))\n",
    "ax.set_xlabel('$R^2$', size=16)\n",
    "ax.set_ylabel('Density', size=16)\n",
    "ax.set_title('Probability Density of $R^2$', size=20)\n",
    "ax.tick_params('both', labelsize=14)"
   ]
  },
  {
   "cell_type": "code",
   "execution_count": null,
   "metadata": {},
   "outputs": [],
   "source": []
  }
 ],
 "metadata": {
  "kernelspec": {
   "display_name": "Python 3 (ipykernel)",
   "language": "python",
   "name": "python3"
  },
  "language_info": {
   "codemirror_mode": {
    "name": "ipython",
    "version": 3
   },
   "file_extension": ".py",
   "mimetype": "text/x-python",
   "name": "python",
   "nbconvert_exporter": "python",
   "pygments_lexer": "ipython3",
   "version": "3.9.13"
  },
  "vscode": {
   "interpreter": {
    "hash": "89707e42dc7a0b8f3dd9676650d8c0c2f769abad1abfbe5581eac207a7f44d6c"
   }
  }
 },
 "nbformat": 4,
 "nbformat_minor": 2
}

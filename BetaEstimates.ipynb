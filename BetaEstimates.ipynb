{
 "cells": [
  {
   "cell_type": "code",
   "execution_count": 1,
   "metadata": {},
   "outputs": [],
   "source": [
    "import pandas as pd\n",
    "import numpy as np\n",
    "from matplotlib import pyplot as plt\n",
    "import seaborn as sns"
   ]
  },
  {
   "cell_type": "markdown",
   "metadata": {},
   "source": [
    "# Get the beta Estimates of the stocks"
   ]
  },
  {
   "cell_type": "code",
   "execution_count": 2,
   "metadata": {},
   "outputs": [],
   "source": [
    "# Get the exceess returns data\n",
    "returndata = pd.read_csv('data/returndata_benchmark_excess_ret.csv', index_col=0)"
   ]
  },
  {
   "cell_type": "code",
   "execution_count": 3,
   "metadata": {},
   "outputs": [
    {
     "data": {
      "text/html": [
       "<div>\n",
       "<style scoped>\n",
       "    .dataframe tbody tr th:only-of-type {\n",
       "        vertical-align: middle;\n",
       "    }\n",
       "\n",
       "    .dataframe tbody tr th {\n",
       "        vertical-align: top;\n",
       "    }\n",
       "\n",
       "    .dataframe thead th {\n",
       "        text-align: right;\n",
       "    }\n",
       "</style>\n",
       "<table border=\"1\" class=\"dataframe\">\n",
       "  <thead>\n",
       "    <tr style=\"text-align: right;\">\n",
       "      <th></th>\n",
       "      <th>date</th>\n",
       "      <th>permno</th>\n",
       "      <th>ret</th>\n",
       "      <th>mktcap</th>\n",
       "      <th>rf</th>\n",
       "      <th>excess_ret</th>\n",
       "      <th>benchmark_excess_ret</th>\n",
       "    </tr>\n",
       "  </thead>\n",
       "  <tbody>\n",
       "    <tr>\n",
       "      <th>0</th>\n",
       "      <td>192601</td>\n",
       "      <td>10006</td>\n",
       "      <td>0.032732</td>\n",
       "      <td>66150.00</td>\n",
       "      <td>NaN</td>\n",
       "      <td>NaN</td>\n",
       "      <td>0.0</td>\n",
       "    </tr>\n",
       "    <tr>\n",
       "      <th>1</th>\n",
       "      <td>192601</td>\n",
       "      <td>10022</td>\n",
       "      <td>0.017857</td>\n",
       "      <td>11400.00</td>\n",
       "      <td>NaN</td>\n",
       "      <td>NaN</td>\n",
       "      <td>0.0</td>\n",
       "    </tr>\n",
       "    <tr>\n",
       "      <th>2</th>\n",
       "      <td>192601</td>\n",
       "      <td>10030</td>\n",
       "      <td>0.161667</td>\n",
       "      <td>27183.00</td>\n",
       "      <td>NaN</td>\n",
       "      <td>NaN</td>\n",
       "      <td>0.0</td>\n",
       "    </tr>\n",
       "    <tr>\n",
       "      <th>3</th>\n",
       "      <td>192601</td>\n",
       "      <td>10049</td>\n",
       "      <td>0.141892</td>\n",
       "      <td>20875.00</td>\n",
       "      <td>NaN</td>\n",
       "      <td>NaN</td>\n",
       "      <td>0.0</td>\n",
       "    </tr>\n",
       "    <tr>\n",
       "      <th>4</th>\n",
       "      <td>192601</td>\n",
       "      <td>10057</td>\n",
       "      <td>-0.035714</td>\n",
       "      <td>5906.25</td>\n",
       "      <td>NaN</td>\n",
       "      <td>NaN</td>\n",
       "      <td>0.0</td>\n",
       "    </tr>\n",
       "  </tbody>\n",
       "</table>\n",
       "</div>"
      ],
      "text/plain": [
       "     date  permno       ret    mktcap  rf  excess_ret  benchmark_excess_ret\n",
       "0  192601   10006  0.032732  66150.00 NaN         NaN                   0.0\n",
       "1  192601   10022  0.017857  11400.00 NaN         NaN                   0.0\n",
       "2  192601   10030  0.161667  27183.00 NaN         NaN                   0.0\n",
       "3  192601   10049  0.141892  20875.00 NaN         NaN                   0.0\n",
       "4  192601   10057 -0.035714   5906.25 NaN         NaN                   0.0"
      ]
     },
     "execution_count": 3,
     "metadata": {},
     "output_type": "execute_result"
    }
   ],
   "source": [
    "returndata.head()"
   ]
  },
  {
   "cell_type": "code",
   "execution_count": 4,
   "metadata": {},
   "outputs": [],
   "source": [
    "def get_beta(span, stock_return_data):\n",
    "    return stock_return_data.excess_ret.ewm(span=span).cov(stock_return_data.benchmark_excess_ret)/stock_return_data.benchmark_excess_ret.ewm(span=span).var()"
   ]
  },
  {
   "cell_type": "code",
   "execution_count": 5,
   "metadata": {},
   "outputs": [],
   "source": [
    "# For beta esstimate, we wish to take last 5 years of data and get the EWM weighted Beta values\n",
    "spans = [5, 10, 20, 30]"
   ]
  },
  {
   "cell_type": "code",
   "execution_count": 6,
   "metadata": {},
   "outputs": [],
   "source": [
    "for span in spans:\n",
    "    betas = returndata.groupby('permno').apply(lambda x: get_beta(span=span, stock_return_data=x.set_index('date'))).reset_index().rename(columns={0: f'beta_{span}'})\n",
    "    returndata = pd.merge(returndata, betas, on=['date', 'permno'], how='left')"
   ]
  },
  {
   "cell_type": "code",
   "execution_count": 7,
   "metadata": {},
   "outputs": [
    {
     "data": {
      "text/html": [
       "<div>\n",
       "<style scoped>\n",
       "    .dataframe tbody tr th:only-of-type {\n",
       "        vertical-align: middle;\n",
       "    }\n",
       "\n",
       "    .dataframe tbody tr th {\n",
       "        vertical-align: top;\n",
       "    }\n",
       "\n",
       "    .dataframe thead th {\n",
       "        text-align: right;\n",
       "    }\n",
       "</style>\n",
       "<table border=\"1\" class=\"dataframe\">\n",
       "  <thead>\n",
       "    <tr style=\"text-align: right;\">\n",
       "      <th></th>\n",
       "      <th>date</th>\n",
       "      <th>permno</th>\n",
       "      <th>ret</th>\n",
       "      <th>mktcap</th>\n",
       "      <th>rf</th>\n",
       "      <th>excess_ret</th>\n",
       "      <th>benchmark_excess_ret</th>\n",
       "      <th>beta_5</th>\n",
       "      <th>beta_10</th>\n",
       "      <th>beta_20</th>\n",
       "      <th>beta_30</th>\n",
       "    </tr>\n",
       "  </thead>\n",
       "  <tbody>\n",
       "    <tr>\n",
       "      <th>2759047</th>\n",
       "      <td>200002</td>\n",
       "      <td>10001</td>\n",
       "      <td>0.015385</td>\n",
       "      <td>20212.50000</td>\n",
       "      <td>0.43</td>\n",
       "      <td>-0.414615</td>\n",
       "      <td>-0.348927</td>\n",
       "      <td>0.548127</td>\n",
       "      <td>0.567399</td>\n",
       "      <td>0.512553</td>\n",
       "      <td>0.523175</td>\n",
       "    </tr>\n",
       "    <tr>\n",
       "      <th>2759048</th>\n",
       "      <td>200002</td>\n",
       "      <td>10002</td>\n",
       "      <td>-0.163158</td>\n",
       "      <td>76806.93750</td>\n",
       "      <td>0.43</td>\n",
       "      <td>-0.593158</td>\n",
       "      <td>-0.348927</td>\n",
       "      <td>-0.625304</td>\n",
       "      <td>-0.323440</td>\n",
       "      <td>0.034102</td>\n",
       "      <td>0.198341</td>\n",
       "    </tr>\n",
       "    <tr>\n",
       "      <th>2759049</th>\n",
       "      <td>200002</td>\n",
       "      <td>10009</td>\n",
       "      <td>-0.028120</td>\n",
       "      <td>32514.28125</td>\n",
       "      <td>0.43</td>\n",
       "      <td>-0.458120</td>\n",
       "      <td>-0.348927</td>\n",
       "      <td>-0.393069</td>\n",
       "      <td>-0.002453</td>\n",
       "      <td>0.310357</td>\n",
       "      <td>0.426010</td>\n",
       "    </tr>\n",
       "    <tr>\n",
       "      <th>2759050</th>\n",
       "      <td>200002</td>\n",
       "      <td>10012</td>\n",
       "      <td>0.133621</td>\n",
       "      <td>159032.81250</td>\n",
       "      <td>0.43</td>\n",
       "      <td>-0.296379</td>\n",
       "      <td>-0.348927</td>\n",
       "      <td>1.472567</td>\n",
       "      <td>1.159767</td>\n",
       "      <td>1.875727</td>\n",
       "      <td>2.068863</td>\n",
       "    </tr>\n",
       "    <tr>\n",
       "      <th>2759051</th>\n",
       "      <td>200002</td>\n",
       "      <td>10016</td>\n",
       "      <td>0.132353</td>\n",
       "      <td>343978.25000</td>\n",
       "      <td>0.43</td>\n",
       "      <td>-0.297647</td>\n",
       "      <td>-0.348927</td>\n",
       "      <td>0.792324</td>\n",
       "      <td>0.739925</td>\n",
       "      <td>0.895522</td>\n",
       "      <td>0.958790</td>\n",
       "    </tr>\n",
       "  </tbody>\n",
       "</table>\n",
       "</div>"
      ],
      "text/plain": [
       "           date  permno       ret        mktcap    rf  excess_ret  \\\n",
       "2759047  200002   10001  0.015385   20212.50000  0.43   -0.414615   \n",
       "2759048  200002   10002 -0.163158   76806.93750  0.43   -0.593158   \n",
       "2759049  200002   10009 -0.028120   32514.28125  0.43   -0.458120   \n",
       "2759050  200002   10012  0.133621  159032.81250  0.43   -0.296379   \n",
       "2759051  200002   10016  0.132353  343978.25000  0.43   -0.297647   \n",
       "\n",
       "         benchmark_excess_ret    beta_5   beta_10   beta_20   beta_30  \n",
       "2759047             -0.348927  0.548127  0.567399  0.512553  0.523175  \n",
       "2759048             -0.348927 -0.625304 -0.323440  0.034102  0.198341  \n",
       "2759049             -0.348927 -0.393069 -0.002453  0.310357  0.426010  \n",
       "2759050             -0.348927  1.472567  1.159767  1.875727  2.068863  \n",
       "2759051             -0.348927  0.792324  0.739925  0.895522  0.958790  "
      ]
     },
     "execution_count": 7,
     "metadata": {},
     "output_type": "execute_result"
    }
   ],
   "source": [
    "returndata[returndata.date > 200001].head()"
   ]
  },
  {
   "cell_type": "code",
   "execution_count": 8,
   "metadata": {},
   "outputs": [],
   "source": [
    "returndata.to_csv('data/return_pf_excess_ret_beta.csv')"
   ]
  }
 ],
 "metadata": {
  "interpreter": {
   "hash": "730efbd4681f598c9f4d35ac363e456b0abcc0de41ab2525c32205e7b077dac3"
  },
  "kernelspec": {
   "display_name": "Python 3.9.13 64-bit",
   "language": "python",
   "name": "python3"
  },
  "language_info": {
   "codemirror_mode": {
    "name": "ipython",
    "version": 3
   },
   "file_extension": ".py",
   "mimetype": "text/x-python",
   "name": "python",
   "nbconvert_exporter": "python",
   "pygments_lexer": "ipython3",
   "version": "3.9.13"
  },
  "orig_nbformat": 4
 },
 "nbformat": 4,
 "nbformat_minor": 2
}
